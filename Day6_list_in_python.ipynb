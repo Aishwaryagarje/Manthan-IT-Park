{
  "nbformat": 4,
  "nbformat_minor": 0,
  "metadata": {
    "colab": {
      "name": "Day6_list_in_python.ipynb",
      "provenance": [],
      "collapsed_sections": []
    },
    "kernelspec": {
      "name": "python3",
      "display_name": "Python 3"
    }
  },
  "cells": [
    {
      "cell_type": "code",
      "metadata": {
        "colab": {
          "base_uri": "https://localhost:8080/"
        },
        "id": "uNLowgy0HoHB",
        "outputId": "7d7c8cf9-2557-4de0-fd07-62fcf9692aac"
      },
      "source": [
        "#python progrma to calculate the average of numbers in a given list\r\n",
        "#num = [1,2,3,4,5,6,7,8,9]\r\n",
        "#avg = sum(num)/len(num)\r\n",
        "#print(avg)\r\n",
        "n = int(input(\"enter the number of element you want to insert\"))\r\n",
        "a = []\r\n",
        "for i in range(0,n):\r\n",
        "  elem = int(input(\"enter element\"))\r\n",
        "  a.append(elem)\r\n",
        "avg = sum(a)/n\r\n",
        "print(\"average of element\", round(avg,2))"
      ],
      "execution_count": null,
      "outputs": [
        {
          "output_type": "stream",
          "text": [
            "enter the number of element you want to insert6\n",
            "enter element1\n",
            "enter element2\n",
            "enter element3\n",
            "enter element4\n",
            "enter element5\n",
            "enter element6\n",
            "average of element 3.5\n"
          ],
          "name": "stdout"
        }
      ]
    },
    {
      "cell_type": "code",
      "metadata": {
        "colab": {
          "base_uri": "https://localhost:8080/"
        },
        "id": "AwfyeRErJ8hL",
        "outputId": "8362d205-b26a-4a2b-d479-fdacd2564f68"
      },
      "source": [
        "#swapping two values with using temp var\r\n",
        "a = [1,2,3]\r\n",
        "b = [4,5,6]\r\n",
        "print(\"before swapping\", a,b)\r\n",
        "a = t\r\n",
        "a = b\r\n",
        "b = t\r\n",
        "print(\"after swapping\", a,b)"
      ],
      "execution_count": null,
      "outputs": [
        {
          "output_type": "stream",
          "text": [
            "before swapping [1, 2, 3] [4, 5, 6]\n",
            "after swapping [4, 5, 6] [1, 2, 3]\n"
          ],
          "name": "stdout"
        }
      ]
    },
    {
      "cell_type": "markdown",
      "metadata": {
        "id": "LfRjsvgotULR"
      },
      "source": [
        "##syntax for list \r\n",
        "\r\n",
        "abc =[ ] -> empty list\r\n",
        "\r\n",
        "list = [value1, value2, value3,...valueN]\r\n",
        "\r\n",
        "list[]"
      ]
    },
    {
      "cell_type": "code",
      "metadata": {
        "colab": {
          "base_uri": "https://localhost:8080/"
        },
        "id": "s7OUYuEdteH4",
        "outputId": "2cd4373d-57de-4051-8060-f6e8966d1823"
      },
      "source": [
        "bicycles = ['treak', 'cannondale','redline', 'specialized']\r\n",
        "print(bicycles)"
      ],
      "execution_count": null,
      "outputs": [
        {
          "output_type": "stream",
          "text": [
            "['treak', 'cannondale', 'redline', 'specialized']\n"
          ],
          "name": "stdout"
        }
      ]
    },
    {
      "cell_type": "code",
      "metadata": {
        "colab": {
          "base_uri": "https://localhost:8080/"
        },
        "id": "ZoND2SXFterw",
        "outputId": "c7724b98-ed13-4443-c571-9c6c9eba63e3"
      },
      "source": [
        "print(type(bicycles))"
      ],
      "execution_count": null,
      "outputs": [
        {
          "output_type": "stream",
          "text": [
            "<class 'list'>\n"
          ],
          "name": "stdout"
        }
      ]
    },
    {
      "cell_type": "markdown",
      "metadata": {
        "id": "JndQ9344umP7"
      },
      "source": [
        "##example\r\n",
        "Try these short programs to get some firsthand experience with Python’s lists.\r\n",
        "You might want to create a new folder for each chapter’s exercises to keep\r\n",
        "them organized.\r\n",
        "\r\n",
        "1. Names: Store the names of a few of your friends in a list called names . Print\r\n",
        "each person’s name by accessing each element in the list, one at a time.\r\n",
        "\r\n",
        "2. Greetings: Start with the list you used in Exercise 1, but instead of just\r\n",
        "printing each person’s name, print a message to them. The text of each mes-\r\n",
        "sage should be the same, but each message should be personalized with the\r\n",
        "person’s name.\r\n",
        "\r\n",
        "3. Your Own List: Think of your favorite mode of transportation, such as a\r\n",
        "motorcycle or a car, and make a list that stores several examples. Use your list\r\n",
        "to print a series of statements about these items, such as “I would like to own a\r\n",
        "Honda motorcycle.”"
      ]
    },
    {
      "cell_type": "code",
      "metadata": {
        "colab": {
          "base_uri": "https://localhost:8080/"
        },
        "id": "GPeBp3OXuptY",
        "outputId": "37684463-4001-48b8-f101-31eacbdb4ed2"
      },
      "source": [
        "name = [\"Aishwarya\",\"shivani\",\"shravani\",\"khushi\"]\r\n",
        "print(name[0])\r\n",
        "print(name[1])\r\n",
        "print(name[2])\r\n",
        "print(name[3])"
      ],
      "execution_count": null,
      "outputs": [
        {
          "output_type": "stream",
          "text": [
            "Aishwarya\n",
            "shivani\n",
            "shravani\n",
            "khushi\n"
          ],
          "name": "stdout"
        }
      ]
    },
    {
      "cell_type": "code",
      "metadata": {
        "colab": {
          "base_uri": "https://localhost:8080/"
        },
        "id": "l__AF7HAu_g2",
        "outputId": "e01798e0-e80e-470a-a8fc-8e5a6ecfb240"
      },
      "source": [
        "message1 = f\"my name is {name[0].title()}.\"\r\n",
        "message2 = f\"my sis name is {name[1].title()}.\"\r\n",
        "message3 = f\"my  friend name is {name[2].title()}.\"\r\n",
        "message4 = f\"my sister name is {name[3].title()}.\"\r\n",
        "print(message1)\r\n",
        "print(message2)\r\n",
        "print(message3)\r\n",
        "print(message4)"
      ],
      "execution_count": null,
      "outputs": [
        {
          "output_type": "stream",
          "text": [
            "my name is Aishwarya.\n",
            "my sis name is Shivani.\n",
            "my  friend name is Shravani.\n",
            "my sister name is Khushi.\n"
          ],
          "name": "stdout"
        }
      ]
    },
    {
      "cell_type": "markdown",
      "metadata": {
        "id": "ryrzP_KD_BCh"
      },
      "source": [
        "## Changing, Adding, and Removing Elements"
      ]
    },
    {
      "cell_type": "code",
      "metadata": {
        "colab": {
          "base_uri": "https://localhost:8080/"
        },
        "id": "KQ_oYN6V_EAa",
        "outputId": "4fa0ab1b-d48c-4a98-9fc7-3e539963909b"
      },
      "source": [
        "motorcycles = ['honda', 'yamaha', 'suzuki']\r\n",
        "print(motorcycles)"
      ],
      "execution_count": null,
      "outputs": [
        {
          "output_type": "stream",
          "text": [
            "['honda', 'yamaha', 'suzuki']\n"
          ],
          "name": "stdout"
        }
      ]
    },
    {
      "cell_type": "code",
      "metadata": {
        "colab": {
          "base_uri": "https://localhost:8080/"
        },
        "id": "2Pe41GJ8AF0e",
        "outputId": "6f127ffd-d011-46e8-aa9f-ed88efd1bcd0"
      },
      "source": [
        "motorcycles[0] = 'ducati' #adding element tothe list\r\n",
        "print(motorcycles)"
      ],
      "execution_count": null,
      "outputs": [
        {
          "output_type": "stream",
          "text": [
            "['ducati', 'yamaha', 'suzuki']\n"
          ],
          "name": "stdout"
        }
      ]
    },
    {
      "cell_type": "code",
      "metadata": {
        "colab": {
          "base_uri": "https://localhost:8080/"
        },
        "id": "nS9NxNaTAJU-",
        "outputId": "c2e0c460-f769-41e3-ce5c-8a55346bdcd7"
      },
      "source": [
        "motorcycles.append('rx100') #'append' add element to the end of the list\r\n",
        "print(motorcycles)"
      ],
      "execution_count": null,
      "outputs": [
        {
          "output_type": "stream",
          "text": [
            "['ducati', 'yamaha', 'suzuki', 'rx100']\n"
          ],
          "name": "stdout"
        }
      ]
    },
    {
      "cell_type": "code",
      "metadata": {
        "colab": {
          "base_uri": "https://localhost:8080/"
        },
        "id": "_oYKZGqBATg_",
        "outputId": "240afcba-5c09-495e-bc20-5214669d3632"
      },
      "source": [
        "motorcycles = ['honda', 'yamaha', 'suzuki'] #inserting element to a list at any position\r\n",
        "motorcycles.insert(2, 'ducati')\r\n",
        "print(motorcycles)"
      ],
      "execution_count": null,
      "outputs": [
        {
          "output_type": "stream",
          "text": [
            "['honda', 'yamaha', 'ducati', 'suzuki']\n"
          ],
          "name": "stdout"
        }
      ]
    },
    {
      "cell_type": "code",
      "metadata": {
        "colab": {
          "base_uri": "https://localhost:8080/"
        },
        "id": "Pu5-wcQdAy8M",
        "outputId": "41d09f19-fadc-4527-9391-2425dba2a8a0"
      },
      "source": [
        "motorcycles = ['honda', 'yamaha', 'suzuki'] #removing element from the list\r\n",
        "print(motorcycles)\r\n",
        "del motorcycles[0]\r\n",
        "print(motorcycles)"
      ],
      "execution_count": null,
      "outputs": [
        {
          "output_type": "stream",
          "text": [
            "['honda', 'yamaha', 'suzuki']\n",
            "['yamaha', 'suzuki']\n"
          ],
          "name": "stdout"
        }
      ]
    },
    {
      "cell_type": "code",
      "metadata": {
        "colab": {
          "base_uri": "https://localhost:8080/"
        },
        "id": "Ff9mS9pMBBA1",
        "outputId": "0c87ea22-8a8c-4120-827b-2943e5be360b"
      },
      "source": [
        "motorcycles = ['honda', 'yamaha', 'suzuki'] #removing using (pop method)\r\n",
        "for i in motorcycles:\r\n",
        "  motorcycles.pop()\r\n",
        "  print(motorcycles)"
      ],
      "execution_count": null,
      "outputs": [
        {
          "output_type": "stream",
          "text": [
            "['honda', 'yamaha']\n",
            "['honda']\n"
          ],
          "name": "stdout"
        }
      ]
    },
    {
      "cell_type": "markdown",
      "metadata": {
        "id": "lNkk7r7_Ccnm"
      },
      "source": [
        "##example\r\n",
        "The following exercises are a bit more complex than those in previous exercise, but\r\n",
        "they give you an opportunity to use lists in all of the ways described.\r\n",
        "4. Guest List: If you could invite anyone, living or deceased, to dinner, who\r\n",
        "would you invite? Make a list that includes at least three people you’d like to\r\n",
        "invite to dinner. Then use your list to print a message to each person, inviting\r\n",
        "them to dinner.\r\n",
        "\r\n",
        "5. Changing Guest List: You just heard that one of your guests can’t make the\r\n",
        "dinner, so you need to send out a new set of invitations. You’ll have to think of\r\n",
        "someone else to invite.\r\n",
        "• Start with your program from Exercise 4. Add a print() call at the end\r\n",
        "of your program stating the name of the guest who can’t make it.\r\n",
        "• Modify your list, replacing the name of the guest who can’t make it with\r\n",
        "the name of the new person you are inviting.\r\n",
        "• Print a second set of invitation messages, one for each person who is still\r\n",
        "in your list.\r\n",
        "6. More Guests: You just found a bigger dinner table, so now more space is\r\n",
        "available. Think of three more guests to invite to dinner.\r\n",
        "42     Chapter 3\r\n",
        "• Start with your program from Exercise 4 or Exercise 5. Add a print()\r\n",
        "call to the end of your program informing people that you found a bigger\r\n",
        "dinner table.\r\n",
        "\r\n",
        "• Use insert() to add one new guest to the beginning of your list.\r\n",
        "\r\n",
        "• Use insert() to add one new guest to the middle of your list.\r\n",
        "\r\n",
        "• Use append() to add one new guest to the end of your list.\r\n",
        "\r\n",
        "• Print a new set of invitation messages, one for each person in your list.\r\n",
        "\r\n",
        "7. Shrinking Guest List: You just found out that your new dinner table won’t\r\n",
        "arrive in time for the dinner, and you have space for only two guests.\r\n",
        "\r\n",
        "• Start with your program from Exercise 3-6. Add a new line that prints a\r\n",
        "message saying that you can invite only two people for dinner.\r\n",
        "\r\n",
        "• Use pop() to remove guests from your list one at a time until only two\r\n",
        "names remain in your list. Each time you pop a name from your list, print\r\n",
        "a message to that person letting them know you’re sorry you can’t invite\r\n",
        "them to dinner.\r\n",
        "\r\n",
        "• Print a message to each of the two people still on your list, letting them\r\n",
        "know they’re still invited.\r\n",
        "\r\n",
        "• Use del to remove the last two names from your list, so you have an empty\r\n",
        "list. Print your list to make sure you actually have an empty list at the end\r\n",
        "of your program."
      ]
    },
    {
      "cell_type": "code",
      "metadata": {
        "id": "eR-RAzVtCmB7"
      },
      "source": [
        ""
      ],
      "execution_count": null,
      "outputs": []
    }
  ]
}