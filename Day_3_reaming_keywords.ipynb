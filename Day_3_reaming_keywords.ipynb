{
  "nbformat": 4,
  "nbformat_minor": 0,
  "metadata": {
    "colab": {
      "name": "Day 3 - reaming keywords",
      "provenance": [],
      "collapsed_sections": [],
      "authorship_tag": "ABX9TyOgULT7+oUkKKxT88LfvHCm",
      "include_colab_link": true
    },
    "kernelspec": {
      "name": "python3",
      "display_name": "Python 3"
    }
  },
  "cells": [
    {
      "cell_type": "markdown",
      "metadata": {
        "id": "view-in-github",
        "colab_type": "text"
      },
      "source": [
        "<a href=\"https://colab.research.google.com/github/Aishwaryagarje/Manthan-IT-Park/blob/main/Day_3_reaming_keywords.ipynb\" target=\"_parent\"><img src=\"https://colab.research.google.com/assets/colab-badge.svg\" alt=\"Open In Colab\"/></a>"
      ]
    },
    {
      "cell_type": "markdown",
      "metadata": {
        "id": "J0dMnC1rsfUJ"
      },
      "source": [
        "20)import:-The import keyword is used to import modules in the current Python script. The module contains a runnable Python code."
      ]
    },
    {
      "cell_type": "code",
      "metadata": {
        "colab": {
          "base_uri": "https://localhost:8080/"
        },
        "id": "9EKhrcMQwpDL",
        "outputId": "aec13a1f-5bd9-44dc-9e46-8291a3192843"
      },
      "source": [
        "import math  \r\n",
        "print(math.sqrt(25))  "
      ],
      "execution_count": null,
      "outputs": [
        {
          "output_type": "stream",
          "text": [
            "5.0\n"
          ],
          "name": "stdout"
        }
      ]
    },
    {
      "cell_type": "code",
      "metadata": {
        "colab": {
          "base_uri": "https://localhost:8080/"
        },
        "id": "s9bb0p20w1xL",
        "outputId": "81f68d4e-bde7-43a0-cc98-d297329ae84b"
      },
      "source": [
        "import random\r\n",
        "\r\n",
        "while True:\r\n",
        "\r\n",
        "    val = random.randint(1, 30)\r\n",
        "    print(val, end=\" \")\r\n",
        "\r\n",
        "    if val == 22:\r\n",
        "        break\r\n",
        "\r\n",
        "\r\n"
      ],
      "execution_count": null,
      "outputs": [
        {
          "output_type": "stream",
          "text": [
            "13 13 15 3 19 14 11 6 1 6 24 7 2 24 6 15 27 11 9 12 21 22 "
          ],
          "name": "stdout"
        }
      ]
    },
    {
      "cell_type": "markdown",
      "metadata": {
        "id": "abjlxFqV0sHW"
      },
      "source": [
        "21) from:-This keyword is used to import the specific function or attributes in the current Python script.\r\n",
        "\r\n",
        "[ ]\r\n"
      ]
    },
    {
      "cell_type": "code",
      "metadata": {
        "colab": {
          "base_uri": "https://localhost:8080/"
        },
        "id": "TimULXew00ws",
        "outputId": "e26906d2-0640-4273-ee7c-02c59af452e3"
      },
      "source": [
        "from math import sqrt  \r\n",
        "print(sqrt(25))  "
      ],
      "execution_count": null,
      "outputs": [
        {
          "output_type": "stream",
          "text": [
            "5.0\n"
          ],
          "name": "stdout"
        }
      ]
    },
    {
      "cell_type": "code",
      "metadata": {
        "colab": {
          "base_uri": "https://localhost:8080/"
        },
        "id": "xVrtcuiv1B9p",
        "outputId": "0cea0a7b-abab-4355-e252-948a9b0ea716"
      },
      "source": [
        "from datetime import time\r\n",
        "\r\n",
        "x = time(hour=15)\r\n",
        "\r\n",
        "print(x)\r\n"
      ],
      "execution_count": null,
      "outputs": [
        {
          "output_type": "stream",
          "text": [
            "15:00:00\n"
          ],
          "name": "stdout"
        }
      ]
    },
    {
      "cell_type": "markdown",
      "metadata": {
        "id": "NTg0vU0u1atX"
      },
      "source": [
        "22)as:- as - It is used to create a name alias. It provides the user-define name while importing a module."
      ]
    },
    {
      "cell_type": "code",
      "metadata": {
        "colab": {
          "base_uri": "https://localhost:8080/"
        },
        "id": "CtZMNXRi1jyT",
        "outputId": "1312851f-5014-490d-9208-000b329ced50"
      },
      "source": [
        "import calendar as cal  \r\n",
        "print(cal.month_name[5])"
      ],
      "execution_count": null,
      "outputs": [
        {
          "output_type": "stream",
          "text": [
            "May\n"
          ],
          "name": "stdout"
        }
      ]
    },
    {
      "cell_type": "markdown",
      "metadata": {
        "id": "gtKNk41e2mFO"
      },
      "source": [
        "23)pass:-The pass keyword is used to execute nothing or create a placeholder for future code. If we declare an empty class or function, it will through an error, so we use the pass keyword to declare an empty class or function."
      ]
    },
    {
      "cell_type": "code",
      "metadata": {
        "id": "i6DU6sJh2s3U"
      },
      "source": [
        "class my_class:  \r\n",
        "    pass  \r\n",
        "  \r\n",
        "def my_func():   \r\n",
        "    pass   \r\n",
        "  # having an empty function definition like this, would raise an error without the pass statement\r\n"
      ],
      "execution_count": null,
      "outputs": []
    },
    {
      "cell_type": "markdown",
      "metadata": {
        "id": "6Xh1HYAL3KMc"
      },
      "source": [
        "24)return:-The return keyword is used to return the result value or none to called function."
      ]
    },
    {
      "cell_type": "code",
      "metadata": {
        "colab": {
          "base_uri": "https://localhost:8080/"
        },
        "id": "yOcamy9z3S0N",
        "outputId": "514e373e-0d4c-4d0b-adbb-b2353e9c52bb"
      },
      "source": [
        "def sum(a,b):  \r\n",
        "    c = a+b  \r\n",
        "    return c  \r\n",
        "      \r\n",
        "print(\"The sum is:\",sum(25,15))  "
      ],
      "execution_count": null,
      "outputs": [
        {
          "output_type": "stream",
          "text": [
            "The sum is: 40\n"
          ],
          "name": "stdout"
        }
      ]
    },
    {
      "cell_type": "markdown",
      "metadata": {
        "id": "zrcQpHm9njw3"
      },
      "source": [
        "25)is:- This keyword is used to check if the two-variable refers to the same object. It returns the true if they refer to the same object otherwise false. Consider the following example."
      ]
    },
    {
      "cell_type": "code",
      "metadata": {
        "colab": {
          "base_uri": "https://localhost:8080/"
        },
        "id": "cJ9jNoMqnqYi",
        "outputId": "cd89c90d-5f6f-4aab-a4cd-fba112137d9f"
      },
      "source": [
        "x = 5  \r\n",
        "y = 5  \r\n",
        "  \r\n",
        "a = []  \r\n",
        "b = []  \r\n",
        "print(x is y)  \r\n",
        "print(a is b)  "
      ],
      "execution_count": 1,
      "outputs": [
        {
          "output_type": "stream",
          "text": [
            "True\n",
            "False\n"
          ],
          "name": "stdout"
        }
      ]
    },
    {
      "cell_type": "code",
      "metadata": {
        "colab": {
          "base_uri": "https://localhost:8080/"
        },
        "id": "eY_4gMhDoWmn",
        "outputId": "24771a27-92fb-4830-82aa-c7af9cb39957"
      },
      "source": [
        "x = [\"apple\", \"banana\", \"cherry\"]\r\n",
        "\r\n",
        "y = [\"apple\", \"banana\", \"cherry\"]\r\n",
        "\r\n",
        "print(x is y)\r\n"
      ],
      "execution_count": 2,
      "outputs": [
        {
          "output_type": "stream",
          "text": [
            "False\n"
          ],
          "name": "stdout"
        }
      ]
    },
    {
      "cell_type": "markdown",
      "metadata": {
        "id": "BSzCVxfTpkYF"
      },
      "source": [
        "26)global:- The global keyword is used to create a global variable inside the function. Any function can access the global. Consider the following example."
      ]
    },
    {
      "cell_type": "code",
      "metadata": {
        "colab": {
          "base_uri": "https://localhost:8080/"
        },
        "id": "tKkhRghzpzCK",
        "outputId": "f588d375-41bf-460b-ab4c-23469c91a31c"
      },
      "source": [
        "def my_func():  \r\n",
        "    global a,b   \r\n",
        "    a = 10  \r\n",
        "    b = 20  \r\n",
        "    c = a+b  \r\n",
        "    print(c)  \r\n",
        "      \r\n",
        "my_func()  \r\n",
        "  \r\n",
        "def func():  \r\n",
        "    print(a)  \r\n",
        "    print(b)  \r\n",
        "func() "
      ],
      "execution_count": 5,
      "outputs": [
        {
          "output_type": "stream",
          "text": [
            "30\n",
            "10\n",
            "20\n"
          ],
          "name": "stdout"
        }
      ]
    },
    {
      "cell_type": "code",
      "metadata": {
        "colab": {
          "base_uri": "https://localhost:8080/"
        },
        "id": "tUS8faftqlUg",
        "outputId": "224a6f2d-2d19-47ca-d08c-6a3c39441b54"
      },
      "source": [
        "#create a function:\r\n",
        "def myfunction():\r\n",
        "  global x\r\n",
        "  x = \"hello\"\r\n",
        "\r\n",
        "#execute the function:\r\n",
        "myfunction()\r\n",
        "\r\n",
        "#x should now be global, and accessible in the global scope.\r\n",
        "print(x)\r\n"
      ],
      "execution_count": 6,
      "outputs": [
        {
          "output_type": "stream",
          "text": [
            "hello\n"
          ],
          "name": "stdout"
        }
      ]
    },
    {
      "cell_type": "markdown",
      "metadata": {
        "id": "1jF_D873rPi-"
      },
      "source": [
        "27)nonlocal:-The nonlocal is similar to the global and used to work with a variable inside the nested function(function inside a function). Consider the following example."
      ]
    },
    {
      "cell_type": "code",
      "metadata": {
        "colab": {
          "base_uri": "https://localhost:8080/"
        },
        "id": "a6G9zUEprN3U",
        "outputId": "5f5b6d50-bedf-4d28-80e9-ba07e8f229b0"
      },
      "source": [
        "def outside_function():  \r\n",
        "    a = 20   \r\n",
        "    def inside_function():  \r\n",
        "        nonlocal a  \r\n",
        "        a = 30  \r\n",
        "        print(\"Inner function: \",a)  \r\n",
        "    inside_function()  \r\n",
        "    print(\"Outer function: \",a)  \r\n",
        "outside_function()"
      ],
      "execution_count": 7,
      "outputs": [
        {
          "output_type": "stream",
          "text": [
            "Inner function:  30\n",
            "Outer function:  30\n"
          ],
          "name": "stdout"
        }
      ]
    },
    {
      "cell_type": "code",
      "metadata": {
        "colab": {
          "base_uri": "https://localhost:8080/"
        },
        "id": "PHMA4kFOwt_N",
        "outputId": "ad114e29-99a5-460f-ce81-4b9b059ebed8"
      },
      "source": [
        "def myfunc1():\r\n",
        "  x = \"John\"\r\n",
        "  def myfunc2():\r\n",
        "    nonlocal x\r\n",
        "    x = \"hello\"\r\n",
        "  myfunc2()\r\n",
        "  return x\r\n",
        "\r\n",
        "print(myfunc1())\r\n"
      ],
      "execution_count": 10,
      "outputs": [
        {
          "output_type": "stream",
          "text": [
            "hello\n"
          ],
          "name": "stdout"
        }
      ]
    },
    {
      "cell_type": "markdown",
      "metadata": {
        "id": "YP5m7RQQyqFc"
      },
      "source": [
        "28)lambda:- The lambda keyword is used to create the anonymous function in Python. It is an inline function without a name. Consider the following example."
      ]
    },
    {
      "cell_type": "code",
      "metadata": {
        "colab": {
          "base_uri": "https://localhost:8080/"
        },
        "id": "g_5LbxEFyu8A",
        "outputId": "c1a3f84a-0478-4f9c-8a35-e8fcbd4249fe"
      },
      "source": [
        "x = lambda a : a + 10\r\n",
        "\r\n",
        "print(x(5))\r\n"
      ],
      "execution_count": 11,
      "outputs": [
        {
          "output_type": "stream",
          "text": [
            "15\n"
          ],
          "name": "stdout"
        }
      ]
    },
    {
      "cell_type": "code",
      "metadata": {
        "colab": {
          "base_uri": "https://localhost:8080/"
        },
        "id": "nKfBvrax3Itq",
        "outputId": "f52c788d-b8ed-4007-a73c-baafc50eeb83"
      },
      "source": [
        "x = lambda a, b, c : a + b + c\r\n",
        "\r\n",
        "print(x(5, 6, 2))\r\n"
      ],
      "execution_count": 12,
      "outputs": [
        {
          "output_type": "stream",
          "text": [
            "13\n"
          ],
          "name": "stdout"
        }
      ]
    },
    {
      "cell_type": "markdown",
      "metadata": {
        "id": "qi2BkOPx33hH"
      },
      "source": [
        "29)yeild:-The yield keyword is used with the Python generator. It stops the function's execution and returns value to the caller. Consider the following example.\r\n"
      ]
    },
    {
      "cell_type": "code",
      "metadata": {
        "colab": {
          "base_uri": "https://localhost:8080/"
        },
        "id": "_OHOwRDn385E",
        "outputId": "16fad7e6-eb7a-46f4-85fb-98c7de9963e9"
      },
      "source": [
        "def fun_Generator():  \r\n",
        "  yield 1  \r\n",
        "  yield 2  \r\n",
        "  yield 3  \r\n",
        "  \r\n",
        "  \r\n",
        "# Driver code to check above generator function   \r\n",
        "for value in fun_Generator():  \r\n",
        "  print(value)  "
      ],
      "execution_count": 13,
      "outputs": [
        {
          "output_type": "stream",
          "text": [
            "1\n",
            "2\n",
            "3\n"
          ],
          "name": "stdout"
        }
      ]
    },
    {
      "cell_type": "markdown",
      "metadata": {
        "id": "2GcAlCxl6jFK"
      },
      "source": [
        "30)with:-The with keyword is used in the exception handling. It makes code cleaner and more readable. The advantage of using with, we don't need to call close(). Consider the following example."
      ]
    },
    {
      "cell_type": "code",
      "metadata": {
        "id": "POOpFAFp6n7G"
      },
      "source": [
        "with open('file_path', 'w') as file:   \r\n",
        "    file.write('hello world !')  "
      ],
      "execution_count": 14,
      "outputs": []
    },
    {
      "cell_type": "code",
      "metadata": {
        "id": "xuMFrWDC8u4E"
      },
      "source": [
        ""
      ],
      "execution_count": null,
      "outputs": []
    }
  ]
}