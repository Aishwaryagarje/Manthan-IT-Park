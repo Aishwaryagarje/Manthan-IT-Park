{
  "nbformat": 4,
  "nbformat_minor": 0,
  "metadata": {
    "colab": {
      "name": "Day_7&8_sets&tuples_in_python.ipynb",
      "provenance": [],
      "collapsed_sections": []
    },
    "kernelspec": {
      "name": "python3",
      "display_name": "Python 3"
    }
  },
  "cells": [
    {
      "cell_type": "markdown",
      "metadata": {
        "id": "kc3Bnu7n4e8U"
      },
      "source": [
        "##Set\r\n",
        "Sets are used to store multiple items in a single variable.\r\n",
        "\r\n",
        "Set is one of 4 built-in data types in Python used to store collections of data, the other 3 are List, Tuple, and Dictionary, all with different qualities and usage.\r\n",
        "\r\n",
        "A set is a collection which is both unordered and unindexed.\r\n",
        "\r\n",
        "Sets are written with curly brackets.\r\n",
        "\r\n",
        "#Set Items\r\n",
        "Set items are unordered, unchangeable, and do not allow duplicate values.\r\n",
        "\r\n"
      ]
    },
    {
      "cell_type": "code",
      "metadata": {
        "colab": {
          "base_uri": "https://localhost:8080/"
        },
        "id": "g6Elauh85nDo",
        "outputId": "13fc8323-086d-47c8-ff21-dc2a78cd8d8e"
      },
      "source": [
        "#Run a program to count the number of vowels present in a string using sets\r\n",
        "s = input(\"enter string:\")\r\n",
        "count = 0\r\n",
        "vowel = set(\"aeiou\")\r\n",
        "for alphabet in s:\r\n",
        "  if alphabet in vowel:\r\n",
        "    count = count+1\r\n",
        "print(\"number of vowels:\",count)\r\n",
        "  "
      ],
      "execution_count": null,
      "outputs": [
        {
          "output_type": "stream",
          "text": [
            "enter string:aishwarya\n",
            "number of vowels: 4\n"
          ],
          "name": "stdout"
        }
      ]
    },
    {
      "cell_type": "code",
      "metadata": {
        "colab": {
          "base_uri": "https://localhost:8080/"
        },
        "id": "UcjJ0IpD7NOo",
        "outputId": "46a893dd-04e7-477a-aaa2-d81cbffa4558"
      },
      "source": [
        "#Run a program to check common letters in two input stings\r\n",
        "s1 = input(\"enter string 1:\")\r\n",
        "s2 = input(\"enter string 2:\")\r\n",
        "a = set(s1)&set(s2)\r\n",
        "print(a)"
      ],
      "execution_count": null,
      "outputs": [
        {
          "output_type": "stream",
          "text": [
            "enter string 1:aishwarya\n",
            "enter string 2:shivani\n",
            "{'h', 's', 'i', 'a'}\n"
          ],
          "name": "stdout"
        }
      ]
    },
    {
      "cell_type": "code",
      "metadata": {
        "colab": {
          "base_uri": "https://localhost:8080/"
        },
        "id": "JT0Jqpe7Hb6x",
        "outputId": "a5451cad-373a-426c-9e07-87cb0decfb9d"
      },
      "source": [
        "x = {\"apple\", \"banana\", \"cherry\"}\r\n",
        "y = {\"google\", \"microsoft\", \"apple\"}\r\n",
        "\r\n",
        "x.intersection_update(y)\r\n",
        "\r\n",
        "print(x)\r\n"
      ],
      "execution_count": null,
      "outputs": [
        {
          "output_type": "stream",
          "text": [
            "{'apple'}\n"
          ],
          "name": "stdout"
        }
      ]
    },
    {
      "cell_type": "code",
      "metadata": {
        "colab": {
          "base_uri": "https://localhost:8080/"
        },
        "id": "boDIw_S6IoDR",
        "outputId": "6eac42d8-70e1-4dd5-f301-ff358664d9e6"
      },
      "source": [
        "#Program that displays which letters are in the first string but not in the second\r\n",
        "s1 = input(\"enter string 1:\")\r\n",
        "s2 = input(\"enter string 2:\")\r\n",
        "a = set(s1)\r\n",
        "b = set(s2)\r\n",
        "c = a-b\r\n",
        "print(c)"
      ],
      "execution_count": null,
      "outputs": [
        {
          "output_type": "stream",
          "text": [
            "enter string 1:aishwarya\n",
            "enter string 2:shivani\n",
            "{'w', 'r', 'y'}\n"
          ],
          "name": "stdout"
        }
      ]
    },
    {
      "cell_type": "code",
      "metadata": {
        "colab": {
          "base_uri": "https://localhost:8080/"
        },
        "id": "KqvzUNylM2WW",
        "outputId": "190d80bb-db08-4b0d-8ee0-f588cec846e0"
      },
      "source": [
        "#program that displays which letters are present in both the strings\r\n",
        "s1 = input(\"enter string 1:\")\r\n",
        "s2 = input(\"enter string 2:\")\r\n",
        "a = set(s1)|set(s2)\r\n",
        "print(a)"
      ],
      "execution_count": null,
      "outputs": [
        {
          "output_type": "stream",
          "text": [
            "enter string 1:aishwarya\n",
            "enter string 2:shivani\n",
            "{'r', 's', 'w', 'h', 'v', 'y', 'i', 'a', 'n'}\n"
          ],
          "name": "stdout"
        }
      ]
    },
    {
      "cell_type": "markdown",
      "metadata": {
        "id": "DdZ0kTzYptrw"
      },
      "source": [
        "#Tuple\r\n",
        "Tuples are used to store multiple items in a single variable.\r\n",
        "\r\n",
        "Tuple is one of 4 built-in data types in Python used to store collections of data, the other 3 are List, Set, and Dictionary, all with different qualities and usage.\r\n",
        "\r\n",
        "A tuple is a collection which is ordered and unchangeable.\r\n",
        "\r\n",
        "Tuples are written with round brackets.\r\n",
        "\r\n",
        "Tuple items are ordered, unchangeable, and allow duplicate values.\r\n",
        "\r\n",
        "Tuple items are indexed, the first item has index [0], the second item has index [1] etc."
      ]
    },
    {
      "cell_type": "code",
      "metadata": {
        "id": "oEpZEuFEA1oS"
      },
      "source": [
        ""
      ],
      "execution_count": null,
      "outputs": []
    }
  ]
}