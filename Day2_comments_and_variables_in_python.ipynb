{
  "nbformat": 4,
  "nbformat_minor": 0,
  "metadata": {
    "colab": {
      "name": "Day2- comments and variables in python",
      "provenance": [],
      "collapsed_sections": []
    },
    "kernelspec": {
      "name": "python3",
      "display_name": "Python 3"
    }
  },
  "cells": [
    {
      "cell_type": "code",
      "metadata": {
        "colab": {
          "base_uri": "https://localhost:8080/"
        },
        "id": "1y05kZtTA1yi",
        "outputId": "318acb55-17ea-429e-dc4e-f311c9443fb3"
      },
      "source": [
        "#Comments in Python\r\n",
        "#Comments can be used to make the code more readable.\r\n",
        "#Comments are discribed by (#)\r\n",
        "#Comments are useful to understand the code to others.\r\n",
        "print(\"hello\")\r\n",
        "\r\n"
      ],
      "execution_count": null,
      "outputs": [
        {
          "output_type": "stream",
          "text": [
            "hello\n"
          ],
          "name": "stdout"
        }
      ]
    },
    {
      "cell_type": "code",
      "metadata": {
        "colab": {
          "base_uri": "https://localhost:8080/"
        },
        "id": "p78JlgdpDvgM",
        "outputId": "f707c352-c3dd-4301-9a63-c0448b63cc23"
      },
      "source": [
        "#Types of comments\r\n",
        "#Single line comment -  This comments start with a hash symbol(#) and are useful to mention that the entire line till the end should be treated as comments.\r\n",
        "#this is the single line comment\r\n",
        "a=10\r\n",
        "print(a)"
      ],
      "execution_count": null,
      "outputs": [
        {
          "output_type": "stream",
          "text": [
            "10\n"
          ],
          "name": "stdout"
        }
      ]
    },
    {
      "cell_type": "code",
      "metadata": {
        "id": "rxzDKlI_EgUL"
      },
      "source": [
        "#multiline comments - for writing a multiline comment # should be added to the starting of everyline.\r\n",
        "#also we can write multipleline comments starting and ending with (\"\"\"\"triple double quotes\"\"\")and('''triple single quotes''')\r\n",
        "#this is the examplwe of multiline comments"
      ],
      "execution_count": null,
      "outputs": []
    },
    {
      "cell_type": "markdown",
      "metadata": {
        "id": "BiaxJC-EGHuI"
      },
      "source": [
        "**Variables in Python**\r\n",
        "\r\n",
        "variables are the memory location or containers for storing the data values."
      ]
    },
    {
      "cell_type": "code",
      "metadata": {
        "colab": {
          "base_uri": "https://localhost:8080/"
        },
        "id": "lC_PrNyvG6Hs",
        "outputId": "8efac248-1275-40b5-f487-bdd1675e534f"
      },
      "source": [
        "#here a and b are the variables which are storing the values like 10 and aishwarya\r\n",
        "a=10\r\n",
        "b=(\"aishwarya\")\r\n",
        "id(a) #here id shows the location of value\r\n",
        "id(b)\r\n",
        "print(a)\r\n",
        "print(b)"
      ],
      "execution_count": null,
      "outputs": [
        {
          "output_type": "stream",
          "text": [
            "10\n",
            "aishwarya\n"
          ],
          "name": "stdout"
        }
      ]
    },
    {
      "cell_type": "markdown",
      "metadata": {
        "id": "3_nPNGyQHe61"
      },
      "source": [
        "Rules of variables:\r\n",
        "\r\n",
        "-The first character of the variable must be an alphabet or underscore ( _ ).\r\n",
        "\r\n",
        "-All the characters except the first character may be an alphabet of lower-case(a-z), upper-case (A-Z), underscore, or digit (0-9).\r\n",
        "\r\n",
        "-variable name must not contain any white-space, or special character (!, @, #, %, ^, &, *).\r\n",
        "\r\n",
        "-variable name must not be similar to any keyword defined in the language.\r\n",
        "\r\n",
        "-variable names are case sensitive; for example, my name, and MyName is not the same.\r\n",
        "\r\n",
        "-Examples of valid identifiers: a123, _n, n_9, etc.\r\n",
        "\r\n",
        "-Examples of invalid identifiers: 1a, n%4, n 9, etc."
      ]
    },
    {
      "cell_type": "code",
      "metadata": {
        "colab": {
          "base_uri": "https://localhost:8080/"
        },
        "id": "-ckxKMFeIIjE",
        "outputId": "26e36834-af65-486c-b5f6-a37519f4ad12"
      },
      "source": [
        "A1=10 #here value is int type\r\n",
        "B2=(\"aish\") #here value if str type\r\n",
        "print(A1)\r\n",
        "print(B2)"
      ],
      "execution_count": null,
      "outputs": [
        {
          "output_type": "stream",
          "text": [
            "10\n",
            "aish\n"
          ],
          "name": "stdout"
        }
      ]
    },
    {
      "cell_type": "code",
      "metadata": {
        "colab": {
          "base_uri": "https://localhost:8080/"
        },
        "id": "jsEtRykDJGsE",
        "outputId": "edb96800-fcbb-473d-850e-040d91ec6f0a"
      },
      "source": [
        "a = 4\r\n",
        "A = \"Sally\"\r\n",
        "print(a)\r\n",
        "print(A)\r\n",
        "#here variable will not overwrite since we ahve created two different variable"
      ],
      "execution_count": null,
      "outputs": [
        {
          "output_type": "stream",
          "text": [
            "4\n",
            "Sally\n"
          ],
          "name": "stdout"
        }
      ]
    },
    {
      "cell_type": "markdown",
      "metadata": {
        "id": "PdXtbbfKhOCd"
      },
      "source": [
        "**Keywords**\r\n",
        "\r\n",
        "Keywords or Reserved words are the words that are already reserved for some particular purpose in the Python\r\n",
        "the Name of this reserved words should not be used as identifier"
      ]
    },
    {
      "cell_type": "code",
      "metadata": {
        "colab": {
          "base_uri": "https://localhost:8080/"
        },
        "id": "2fNtC-6Th6lO",
        "outputId": "af8aa0ec-804b-4f67-e1cc-2304f7f2b542"
      },
      "source": [
        "import keyword\r\n",
        "print (keyword.kwlist)"
      ],
      "execution_count": null,
      "outputs": [
        {
          "output_type": "stream",
          "text": [
            "['False', 'None', 'True', 'and', 'as', 'assert', 'break', 'class', 'continue', 'def', 'del', 'elif', 'else', 'except', 'finally', 'for', 'from', 'global', 'if', 'import', 'in', 'is', 'lambda', 'nonlocal', 'not', 'or', 'pass', 'raise', 'return', 'try', 'while', 'with', 'yield']\n"
          ],
          "name": "stdout"
        }
      ]
    },
    {
      "cell_type": "markdown",
      "metadata": {
        "id": "WKLpF7rmi8N0"
      },
      "source": [
        "1) True:- IT represents the Boolean true, if the given condition is true,then it returns \"True\". Non-zero values are treated as true.\r\n",
        "\r\n",
        "2) False:- It represents the Boolean false;if the given condition is false, then it returns \"False\". Zero value is treated as false."
      ]
    },
    {
      "cell_type": "code",
      "metadata": {
        "colab": {
          "base_uri": "https://localhost:8080/"
        },
        "id": "2QUbHgeBjiAb",
        "outputId": "7cd092a3-2e09-4349-cdd5-ccda677711b7"
      },
      "source": [
        "a=5\r\n",
        "b=10\r\n",
        "print(5>10)\r\n",
        "print(10>5)"
      ],
      "execution_count": null,
      "outputs": [
        {
          "output_type": "stream",
          "text": [
            "False\n",
            "True\n"
          ],
          "name": "stdout"
        }
      ]
    },
    {
      "cell_type": "markdown",
      "metadata": {
        "id": "JwwDIPA9oFt9"
      },
      "source": [
        "3)None:- It denotes the null value or void.An empty list or zero cant be treated as None."
      ]
    },
    {
      "cell_type": "code",
      "metadata": {
        "colab": {
          "base_uri": "https://localhost:8080/"
        },
        "id": "Jcn6FDyiou8Y",
        "outputId": "3dc17e01-ed5d-485c-ffff-c434fdbe39d6"
      },
      "source": [
        "x = None\r\n",
        "\r\n",
        "if x:\r\n",
        "  print(\"Do you think None is True\")\r\n",
        "else:\r\n",
        "  print(\"None is not True...\")\r\n",
        "\r\n"
      ],
      "execution_count": null,
      "outputs": [
        {
          "output_type": "stream",
          "text": [
            "None is not True...\n"
          ],
          "name": "stdout"
        }
      ]
    },
    {
      "cell_type": "markdown",
      "metadata": {
        "id": "hNE2NNSKqem9"
      },
      "source": [
        "4) and:- It is a logical operator. It is used to check the multiple conditions. It returns true if both conditions are true. "
      ]
    },
    {
      "cell_type": "code",
      "metadata": {
        "colab": {
          "base_uri": "https://localhost:8080/"
        },
        "id": "WZijPiUorOd4",
        "outputId": "d6964119-85db-42f9-efbf-e1ae6de7de8f"
      },
      "source": [
        "a=5\r\n",
        "b=10\r\n",
        "if 10>5 and 5>10:\r\n",
        "  print(\"both statements are true\")\r\n",
        "else:\r\n",
        "  print(\"both statements are false\")"
      ],
      "execution_count": null,
      "outputs": [
        {
          "output_type": "stream",
          "text": [
            "both statements are false\n"
          ],
          "name": "stdout"
        }
      ]
    },
    {
      "cell_type": "code",
      "metadata": {
        "id": "4OZMZa3YtYdN"
      },
      "source": [
        ""
      ],
      "execution_count": null,
      "outputs": []
    },
    {
      "cell_type": "markdown",
      "metadata": {
        "id": "mLaBTyEvtLfk"
      },
      "source": [
        "5) or:-It is a logical operator in Python. It returns true if one of the conditions is true. Consider the following truth table."
      ]
    },
    {
      "cell_type": "code",
      "metadata": {
        "colab": {
          "base_uri": "https://localhost:8080/"
        },
        "id": "QXkEy9QJtNLs",
        "outputId": "c210d736-0d23-4bb9-f328-1c3fb658666c"
      },
      "source": [
        "a=5\r\n",
        "b=10\r\n",
        "if 5 > 3 or 5 > 10:\r\n",
        "  print(\"At least one of the statements are True\")\r\n",
        "else:\r\n",
        "  print(\"None of the statements are True\")"
      ],
      "execution_count": null,
      "outputs": [
        {
          "output_type": "stream",
          "text": [
            "At least one of the statements are True\n"
          ],
          "name": "stdout"
        }
      ]
    },
    {
      "cell_type": "markdown",
      "metadata": {
        "id": "kprEdYnIqKyl"
      },
      "source": [
        "6) not:-It is a logical operator and inverts the truth value. Consider the following table."
      ]
    },
    {
      "cell_type": "code",
      "metadata": {
        "id": "kDLLwL0UqPKN",
        "colab": {
          "base_uri": "https://localhost:8080/"
        },
        "outputId": "196a614f-cf7a-487a-ba9a-e579b104fb17"
      },
      "source": [
        "x = False\r\n",
        "\r\n",
        "print(not x)\r\n"
      ],
      "execution_count": null,
      "outputs": [
        {
          "output_type": "stream",
          "text": [
            "True\n"
          ],
          "name": "stdout"
        }
      ]
    },
    {
      "cell_type": "markdown",
      "metadata": {
        "id": "JlGB2TzJrA4n"
      },
      "source": [
        "7) assert:-This Keyword is used as the debugging tool in Python. It checks the correctness of the code. It raises an AssertionError if found any error in the code and also prints the message with an error."
      ]
    },
    {
      "cell_type": "code",
      "metadata": {
        "colab": {
          "base_uri": "https://localhost:8080/",
          "height": 231
        },
        "id": "mqnOPqK-rjtC",
        "outputId": "be9cfaca-4013-460f-d539-69b5b920d2d8"
      },
      "source": [
        "a = 10  \r\n",
        "b = 0  \r\n",
        "print('a is dividing by Zero')  \r\n",
        "assert b != 0  \r\n",
        "print(a / b)  "
      ],
      "execution_count": null,
      "outputs": [
        {
          "output_type": "stream",
          "text": [
            "a is dividing by Zero\n"
          ],
          "name": "stdout"
        },
        {
          "output_type": "error",
          "ename": "AssertionError",
          "evalue": "ignored",
          "traceback": [
            "\u001b[0;31m---------------------------------------------------------------------------\u001b[0m",
            "\u001b[0;31mAssertionError\u001b[0m                            Traceback (most recent call last)",
            "\u001b[0;32m<ipython-input-2-222c798b4cf8>\u001b[0m in \u001b[0;36m<module>\u001b[0;34m()\u001b[0m\n\u001b[1;32m      2\u001b[0m \u001b[0mb\u001b[0m \u001b[0;34m=\u001b[0m \u001b[0;36m0\u001b[0m\u001b[0;34m\u001b[0m\u001b[0;34m\u001b[0m\u001b[0m\n\u001b[1;32m      3\u001b[0m \u001b[0mprint\u001b[0m\u001b[0;34m(\u001b[0m\u001b[0;34m'a is dividing by Zero'\u001b[0m\u001b[0;34m)\u001b[0m\u001b[0;34m\u001b[0m\u001b[0;34m\u001b[0m\u001b[0m\n\u001b[0;32m----> 4\u001b[0;31m \u001b[0;32massert\u001b[0m \u001b[0mb\u001b[0m \u001b[0;34m!=\u001b[0m \u001b[0;36m0\u001b[0m\u001b[0;34m\u001b[0m\u001b[0;34m\u001b[0m\u001b[0m\n\u001b[0m\u001b[1;32m      5\u001b[0m \u001b[0mprint\u001b[0m\u001b[0;34m(\u001b[0m\u001b[0ma\u001b[0m \u001b[0;34m/\u001b[0m \u001b[0mb\u001b[0m\u001b[0;34m)\u001b[0m\u001b[0;34m\u001b[0m\u001b[0;34m\u001b[0m\u001b[0m\n",
            "\u001b[0;31mAssertionError\u001b[0m: "
          ]
        }
      ]
    },
    {
      "cell_type": "code",
      "metadata": {
        "colab": {
          "base_uri": "https://localhost:8080/",
          "height": 197
        },
        "id": "i2FWVpaBt6eg",
        "outputId": "652be48e-a5c0-4376-f371-1b8c557607df"
      },
      "source": [
        "x = \"hello\"\r\n",
        "\r\n",
        "#if condition returns True, then nothing happens:\r\n",
        "assert x == \"hello\"\r\n",
        "\r\n",
        "#if condition returns False, AssertionError is raised:\r\n",
        "assert x == \"goodbye\"\r\n"
      ],
      "execution_count": null,
      "outputs": [
        {
          "output_type": "error",
          "ename": "AssertionError",
          "evalue": "ignored",
          "traceback": [
            "\u001b[0;31m---------------------------------------------------------------------------\u001b[0m",
            "\u001b[0;31mAssertionError\u001b[0m                            Traceback (most recent call last)",
            "\u001b[0;32m<ipython-input-5-255728e46539>\u001b[0m in \u001b[0;36m<module>\u001b[0;34m()\u001b[0m\n\u001b[1;32m      5\u001b[0m \u001b[0;34m\u001b[0m\u001b[0m\n\u001b[1;32m      6\u001b[0m \u001b[0;31m#if condition returns False, AssertionError is raised:\u001b[0m\u001b[0;34m\u001b[0m\u001b[0;34m\u001b[0m\u001b[0;34m\u001b[0m\u001b[0m\n\u001b[0;32m----> 7\u001b[0;31m \u001b[0;32massert\u001b[0m \u001b[0mx\u001b[0m \u001b[0;34m==\u001b[0m \u001b[0;34m\"goodbye\"\u001b[0m\u001b[0;34m\u001b[0m\u001b[0;34m\u001b[0m\u001b[0m\n\u001b[0m",
            "\u001b[0;31mAssertionError\u001b[0m: "
          ]
        }
      ]
    },
    {
      "cell_type": "markdown",
      "metadata": {
        "id": "ANRAlZJmREom"
      },
      "source": [
        "8)def:-This keyword is used to declare the function in Python. If followed by the function name."
      ]
    },
    {
      "cell_type": "code",
      "metadata": {
        "colab": {
          "base_uri": "https://localhost:8080/"
        },
        "id": "n8Jige7MRN8a",
        "outputId": "284cd7fa-8ed8-4704-fcbc-5244b56da20c"
      },
      "source": [
        "def my_func(a,b):  \r\n",
        "    c = a+b  \r\n",
        "    print(c)  \r\n",
        "my_func(10,20)  "
      ],
      "execution_count": null,
      "outputs": [
        {
          "output_type": "stream",
          "text": [
            "30\n"
          ],
          "name": "stdout"
        }
      ]
    },
    {
      "cell_type": "markdown",
      "metadata": {
        "id": "7mDMdQHkesVm"
      },
      "source": [
        "9)class:-It is used to represents the class in Python. The class is the blueprint of the objects. It is the collection of the variable and methods. Consider the following class."
      ]
    },
    {
      "cell_type": "code",
      "metadata": {
        "colab": {
          "base_uri": "https://localhost:8080/"
        },
        "id": "aYoTmcXbetc2",
        "outputId": "4de3abc6-1b86-41a5-9918-cb435d22f35f"
      },
      "source": [
        "class Person:\r\n",
        "  name = \"John\"\r\n",
        "  age = 36\r\n",
        "  print(Person.name)\r\n",
        "  print(Person.age)"
      ],
      "execution_count": null,
      "outputs": [
        {
          "output_type": "stream",
          "text": [
            "John\n",
            "36\n"
          ],
          "name": "stdout"
        }
      ]
    },
    {
      "cell_type": "markdown",
      "metadata": {
        "id": "-FOpqtz1flIk"
      },
      "source": [
        "10)continue:- It is used to stop the execution of the current iteration. Consider the following example.\r\n",
        "\r\n"
      ]
    },
    {
      "cell_type": "code",
      "metadata": {
        "colab": {
          "base_uri": "https://localhost:8080/"
        },
        "id": "XDpzST46fpeZ",
        "outputId": "5acb06a1-1de2-45ae-d478-dcb748fcda82"
      },
      "source": [
        "a = 0  \r\n",
        "while a < 4:  \r\n",
        "  a += 1   \r\n",
        "  if a == 2:  \r\n",
        "    continue  \r\n",
        "  print(a)  "
      ],
      "execution_count": null,
      "outputs": [
        {
          "output_type": "stream",
          "text": [
            "1\n",
            "3\n",
            "4\n"
          ],
          "name": "stdout"
        }
      ]
    },
    {
      "cell_type": "markdown",
      "metadata": {
        "id": "EVZ0fJnbgE_3"
      },
      "source": [
        "11)break:- It is used to terminate the loop execution and control transfer to the end of the loop. Consider the following example."
      ]
    },
    {
      "cell_type": "code",
      "metadata": {
        "colab": {
          "base_uri": "https://localhost:8080/"
        },
        "id": "ufVww1wpgG_P",
        "outputId": "1fd200d8-6abe-46f8-e882-2dccdb9b617d"
      },
      "source": [
        "for i in range(5):  \r\n",
        "    if(i==3):  \r\n",
        "        break  \r\n",
        "    print(i)  \r\n",
        "print(\"End of execution\")  "
      ],
      "execution_count": null,
      "outputs": [
        {
          "output_type": "stream",
          "text": [
            "0\n",
            "1\n",
            "2\n",
            "End of execution\n"
          ],
          "name": "stdout"
        }
      ]
    },
    {
      "cell_type": "markdown",
      "metadata": {
        "id": "cd-KLzmRgQEL"
      },
      "source": [
        "**12)if:-** It is used to represent the conditional statement. The execution of a particular block is decided by if statement. Consider the following example.\r\n"
      ]
    },
    {
      "cell_type": "code",
      "metadata": {
        "colab": {
          "base_uri": "https://localhost:8080/"
        },
        "id": "16P_G-0vgUi1",
        "outputId": "1f604f50-6e83-4492-b67b-274458c7901f"
      },
      "source": [
        "x = 5\r\n",
        "if x > 3:\r\n",
        "  print(\"YES\")"
      ],
      "execution_count": null,
      "outputs": [
        {
          "output_type": "stream",
          "text": [
            "YES\n"
          ],
          "name": "stdout"
        }
      ]
    },
    {
      "cell_type": "markdown",
      "metadata": {
        "id": "RhWQu2yLg5C1"
      },
      "source": [
        "13)else:- The else statement is used with the if statement. When if statement returns false, then else block is executed. Consider the following example."
      ]
    },
    {
      "cell_type": "code",
      "metadata": {
        "colab": {
          "base_uri": "https://localhost:8080/"
        },
        "id": "R_UmTeIqg6uY",
        "outputId": "11ca7767-c9de-4ac0-fabb-e3f536037463"
      },
      "source": [
        "x = 2\r\n",
        "if x > 3:\r\n",
        "  print(\"it is grater\")\r\n",
        "else:\r\n",
        "  print(\"it is smaller\")\r\n"
      ],
      "execution_count": null,
      "outputs": [
        {
          "output_type": "stream",
          "text": [
            "it is smaller\n"
          ],
          "name": "stdout"
        }
      ]
    },
    {
      "cell_type": "markdown",
      "metadata": {
        "id": "aFyrn686hQd8"
      },
      "source": [
        "14)elif:- This Keyword is used to check the multiple conditions. It is short for else-if. If the previous condition is false, then check until the true condition is found. Condition the following example."
      ]
    },
    {
      "cell_type": "code",
      "metadata": {
        "colab": {
          "base_uri": "https://localhost:8080/"
        },
        "id": "G4clEfTQhZdx",
        "outputId": "ffcb9c3d-6ec7-4c2e-e161-8c50ece33af5"
      },
      "source": [
        "marks = int(input(\"Enter the marks:\"))  \r\n",
        "if(marks>=90):  \r\n",
        "    print(\"Excellent\")  \r\n",
        "elif(marks<90 and marks>=75):  \r\n",
        "    print(\"Very Good\")  \r\n",
        "elif(marks<75 and marks>=60):  \r\n",
        "    print(\"Good\")  \r\n",
        "else:  \r\n",
        "    print(\"Average\")  "
      ],
      "execution_count": null,
      "outputs": [
        {
          "output_type": "stream",
          "text": [
            "Enter the marks:60\n",
            "Good\n"
          ],
          "name": "stdout"
        }
      ]
    },
    {
      "cell_type": "code",
      "metadata": {
        "colab": {
          "base_uri": "https://localhost:8080/"
        },
        "id": "9-H3tJKzhicC",
        "outputId": "4343d0ce-e7f5-4ee0-fc58-90e8801fde7c"
      },
      "source": [
        "for i in range(-5, 5):\r\n",
        "  if i > 0:\r\n",
        "    print(\"YES\")\r\n",
        "  elif i == 0:\r\n",
        "    print(\"WHATEVER\")\r\n",
        "  else:\r\n",
        "    print(\"NO\")\r\n"
      ],
      "execution_count": null,
      "outputs": [
        {
          "output_type": "stream",
          "text": [
            "NO\n",
            "NO\n",
            "NO\n",
            "NO\n",
            "NO\n",
            "WHATEVER\n",
            "YES\n",
            "YES\n",
            "YES\n",
            "YES\n"
          ],
          "name": "stdout"
        }
      ]
    },
    {
      "cell_type": "markdown",
      "metadata": {
        "id": "J6gc2b25h_-i"
      },
      "source": [
        "15)del:- It is used to delete the reference of the object. Consider the following example."
      ]
    },
    {
      "cell_type": "code",
      "metadata": {
        "colab": {
          "base_uri": "https://localhost:8080/",
          "height": 214
        },
        "id": "KFtZyj63iE1-",
        "outputId": "3e3c60f9-4dab-497e-eb77-5e3b0b9dcdfe"
      },
      "source": [
        "a=10  \r\n",
        "b=12  \r\n",
        "del a  \r\n",
        "print(b)  \r\n",
        "# a is no longer exist  \r\n",
        "print(a)"
      ],
      "execution_count": null,
      "outputs": [
        {
          "output_type": "stream",
          "text": [
            "12\n"
          ],
          "name": "stdout"
        },
        {
          "output_type": "error",
          "ename": "NameError",
          "evalue": "ignored",
          "traceback": [
            "\u001b[0;31m---------------------------------------------------------------------------\u001b[0m",
            "\u001b[0;31mNameError\u001b[0m                                 Traceback (most recent call last)",
            "\u001b[0;32m<ipython-input-17-29e206c5233a>\u001b[0m in \u001b[0;36m<module>\u001b[0;34m()\u001b[0m\n\u001b[1;32m      4\u001b[0m \u001b[0mprint\u001b[0m\u001b[0;34m(\u001b[0m\u001b[0mb\u001b[0m\u001b[0;34m)\u001b[0m\u001b[0;34m\u001b[0m\u001b[0;34m\u001b[0m\u001b[0m\n\u001b[1;32m      5\u001b[0m \u001b[0;31m# a is no longer exist\u001b[0m\u001b[0;34m\u001b[0m\u001b[0;34m\u001b[0m\u001b[0;34m\u001b[0m\u001b[0m\n\u001b[0;32m----> 6\u001b[0;31m \u001b[0mprint\u001b[0m\u001b[0;34m(\u001b[0m\u001b[0ma\u001b[0m\u001b[0;34m)\u001b[0m\u001b[0;34m\u001b[0m\u001b[0;34m\u001b[0m\u001b[0m\n\u001b[0m",
            "\u001b[0;31mNameError\u001b[0m: name 'a' is not defined"
          ]
        }
      ]
    },
    {
      "cell_type": "code",
      "metadata": {
        "colab": {
          "base_uri": "https://localhost:8080/"
        },
        "id": "9K0J5JTniOHt",
        "outputId": "3921497c-ec3d-42a3-be21-d0f2c6229a04"
      },
      "source": [
        "x = [\"apple\", \"banana\", \"cherry\"]\r\n",
        "\r\n",
        "del x[0]\r\n",
        "\r\n",
        "print(x)\r\n"
      ],
      "execution_count": null,
      "outputs": [
        {
          "output_type": "stream",
          "text": [
            "['banana', 'cherry']\n"
          ],
          "name": "stdout"
        }
      ]
    },
    {
      "cell_type": "code",
      "metadata": {
        "colab": {
          "base_uri": "https://localhost:8080/",
          "height": 197
        },
        "id": "XANHgfSmicqT",
        "outputId": "67b19935-8deb-4136-81e7-91a22999d00f"
      },
      "source": [
        "class MyClass:\r\n",
        "  name = \"John\"\r\n",
        "\r\n",
        "del MyClass\r\n",
        "\r\n",
        "print(MyClass)\r\n"
      ],
      "execution_count": null,
      "outputs": [
        {
          "output_type": "error",
          "ename": "NameError",
          "evalue": "ignored",
          "traceback": [
            "\u001b[0;31m---------------------------------------------------------------------------\u001b[0m",
            "\u001b[0;31mNameError\u001b[0m                                 Traceback (most recent call last)",
            "\u001b[0;32m<ipython-input-19-78197a7532ab>\u001b[0m in \u001b[0;36m<module>\u001b[0;34m()\u001b[0m\n\u001b[1;32m      4\u001b[0m \u001b[0;32mdel\u001b[0m \u001b[0mMyClass\u001b[0m\u001b[0;34m\u001b[0m\u001b[0;34m\u001b[0m\u001b[0m\n\u001b[1;32m      5\u001b[0m \u001b[0;34m\u001b[0m\u001b[0m\n\u001b[0;32m----> 6\u001b[0;31m \u001b[0mprint\u001b[0m\u001b[0;34m(\u001b[0m\u001b[0mMyClass\u001b[0m\u001b[0;34m)\u001b[0m\u001b[0;34m\u001b[0m\u001b[0;34m\u001b[0m\u001b[0m\n\u001b[0m",
            "\u001b[0;31mNameError\u001b[0m: name 'MyClass' is not defined"
          ]
        }
      ]
    },
    {
      "cell_type": "code",
      "metadata": {
        "id": "iK06C-6uim-1"
      },
      "source": [
        "16) try, except:-The try-except is used to handle the exceptions. The exceptions are run-time errors. Consider the following example."
      ],
      "execution_count": null,
      "outputs": []
    },
    {
      "cell_type": "code",
      "metadata": {
        "colab": {
          "base_uri": "https://localhost:8080/"
        },
        "id": "Z2-20Z3YjnGZ",
        "outputId": "446e0f46-51e0-4beb-eac3-871cf777f112"
      },
      "source": [
        "a = 0  \r\n",
        "try:  \r\n",
        "   b = 1/a  \r\n",
        "except Exception as e:  \r\n",
        "   print(e)  "
      ],
      "execution_count": null,
      "outputs": [
        {
          "output_type": "stream",
          "text": [
            "division by zero\n"
          ],
          "name": "stdout"
        }
      ]
    },
    {
      "cell_type": "code",
      "metadata": {
        "colab": {
          "base_uri": "https://localhost:8080/"
        },
        "id": "XZVsNwwEj0O2",
        "outputId": "db35380f-d49a-46ec-cf07-59107ec3cdef"
      },
      "source": [
        "try:\r\n",
        "  x > 3\r\n",
        "except:\r\n",
        "  print(\"Something went wrong\")\r\n",
        "\r\n",
        "#print(\"Even if it raised an error, the program keeps running\")\r\n"
      ],
      "execution_count": null,
      "outputs": [
        {
          "output_type": "stream",
          "text": [
            "Something went wrong\n"
          ],
          "name": "stdout"
        }
      ]
    },
    {
      "cell_type": "code",
      "metadata": {
        "id": "JaudHDIbkMe7"
      },
      "source": [
        "17)raise:- The raise keyword is used to through the exception forcefully. Consider the following example."
      ],
      "execution_count": null,
      "outputs": []
    },
    {
      "cell_type": "code",
      "metadata": {
        "colab": {
          "base_uri": "https://localhost:8080/",
          "height": 197
        },
        "id": "3CiBhSA8k2Aj",
        "outputId": "c3065c49-4824-443b-8aa6-ef3cf685f873"
      },
      "source": [
        "x = -1\r\n",
        "\r\n",
        "if x < 0:\r\n",
        "  raise Exception(\"Sorry, no numbers below zero\")"
      ],
      "execution_count": null,
      "outputs": [
        {
          "output_type": "error",
          "ename": "Exception",
          "evalue": "ignored",
          "traceback": [
            "\u001b[0;31m---------------------------------------------------------------------------\u001b[0m",
            "\u001b[0;31mException\u001b[0m                                 Traceback (most recent call last)",
            "\u001b[0;32m<ipython-input-22-2edc57024fbc>\u001b[0m in \u001b[0;36m<module>\u001b[0;34m()\u001b[0m\n\u001b[1;32m      2\u001b[0m \u001b[0;34m\u001b[0m\u001b[0m\n\u001b[1;32m      3\u001b[0m \u001b[0;32mif\u001b[0m \u001b[0mx\u001b[0m \u001b[0;34m<\u001b[0m \u001b[0;36m0\u001b[0m\u001b[0;34m:\u001b[0m\u001b[0;34m\u001b[0m\u001b[0;34m\u001b[0m\u001b[0m\n\u001b[0;32m----> 4\u001b[0;31m   \u001b[0;32mraise\u001b[0m \u001b[0mException\u001b[0m\u001b[0;34m(\u001b[0m\u001b[0;34m\"Sorry, no numbers below zero\"\u001b[0m\u001b[0;34m)\u001b[0m\u001b[0;34m\u001b[0m\u001b[0;34m\u001b[0m\u001b[0m\n\u001b[0m",
            "\u001b[0;31mException\u001b[0m: Sorry, no numbers below zero"
          ]
        }
      ]
    },
    {
      "cell_type": "code",
      "metadata": {
        "colab": {
          "base_uri": "https://localhost:8080/",
          "height": 197
        },
        "id": "u0k6dP1nlW50",
        "outputId": "c683e717-6e66-469b-856c-3202e83473a1"
      },
      "source": [
        "a = 5  \r\n",
        "if (a>2):  \r\n",
        "   raise Exception('a should not exceed 2 ')  "
      ],
      "execution_count": null,
      "outputs": [
        {
          "output_type": "error",
          "ename": "Exception",
          "evalue": "ignored",
          "traceback": [
            "\u001b[0;31m---------------------------------------------------------------------------\u001b[0m",
            "\u001b[0;31mException\u001b[0m                                 Traceback (most recent call last)",
            "\u001b[0;32m<ipython-input-23-7a053a340c2e>\u001b[0m in \u001b[0;36m<module>\u001b[0;34m()\u001b[0m\n\u001b[1;32m      1\u001b[0m \u001b[0ma\u001b[0m \u001b[0;34m=\u001b[0m \u001b[0;36m5\u001b[0m\u001b[0;34m\u001b[0m\u001b[0;34m\u001b[0m\u001b[0m\n\u001b[1;32m      2\u001b[0m \u001b[0;32mif\u001b[0m \u001b[0;34m(\u001b[0m\u001b[0ma\u001b[0m\u001b[0;34m>\u001b[0m\u001b[0;36m2\u001b[0m\u001b[0;34m)\u001b[0m\u001b[0;34m:\u001b[0m\u001b[0;34m\u001b[0m\u001b[0;34m\u001b[0m\u001b[0m\n\u001b[0;32m----> 3\u001b[0;31m    \u001b[0;32mraise\u001b[0m \u001b[0mException\u001b[0m\u001b[0;34m(\u001b[0m\u001b[0;34m'a should not exceed 2 '\u001b[0m\u001b[0;34m)\u001b[0m\u001b[0;34m\u001b[0m\u001b[0;34m\u001b[0m\u001b[0m\n\u001b[0m",
            "\u001b[0;31mException\u001b[0m: a should not exceed 2 "
          ]
        }
      ]
    },
    {
      "cell_type": "markdown",
      "metadata": {
        "id": "vSJrnr_qmsT1"
      },
      "source": [
        "18)finally:-The finally keyword is used to create a block of code that will always be executed no matter the else block raises an error or not. "
      ]
    },
    {
      "cell_type": "code",
      "metadata": {
        "colab": {
          "base_uri": "https://localhost:8080/"
        },
        "id": "Ic3AvaH6muGo",
        "outputId": "967d56f1-1410-45a1-b871-2c8ecf2d9c2e"
      },
      "source": [
        "try:\r\n",
        "  x > 3\r\n",
        "except:\r\n",
        "  print(\"Something went wrong\")\r\n",
        "else:\r\n",
        "  print(\"Nothing went wrong\")\r\n",
        "finally:\r\n",
        "  print(\"The try...except block is finished\")\r\n"
      ],
      "execution_count": null,
      "outputs": [
        {
          "output_type": "stream",
          "text": [
            "Nothing went wrong\n",
            "The try...except block is finished\n"
          ],
          "name": "stdout"
        }
      ]
    },
    {
      "cell_type": "code",
      "metadata": {
        "colab": {
          "base_uri": "https://localhost:8080/"
        },
        "id": "aadF87PqnKzD",
        "outputId": "03b616ff-0fb0-44b3-f1a3-c4dbdf6e83a0"
      },
      "source": [
        "a=0  \r\n",
        "b=5  \r\n",
        "try:  \r\n",
        "    c = b/a  \r\n",
        "    print(c)  \r\n",
        "except Exception as e:  \r\n",
        "    print(e)  \r\n",
        "finally:  \r\n",
        "    print('Finally always executed')"
      ],
      "execution_count": null,
      "outputs": [
        {
          "output_type": "stream",
          "text": [
            "division by zero\n",
            "Finally always executed\n"
          ],
          "name": "stdout"
        }
      ]
    },
    {
      "cell_type": "markdown",
      "metadata": {
        "id": "GtoN-pMqnqWr"
      },
      "source": [
        "for,while:-** Both keywords are used for iteration. The for keyword is used to iterate over the sequences (list, tuple, dictionary, string). A while loop is executed until the condition returns false. Consider the following example."
      ]
    },
    {
      "cell_type": "code",
      "metadata": {
        "colab": {
          "base_uri": "https://localhost:8080/"
        },
        "id": "2DxZP6tVnrzL",
        "outputId": "efa8e7de-1959-42cb-9729-62de4e973e19"
      },
      "source": [
        "list = [1,2,3,4,5]  \r\n",
        "for i in list:  \r\n",
        "    print(i)  "
      ],
      "execution_count": null,
      "outputs": [
        {
          "output_type": "stream",
          "text": [
            "1\n",
            "2\n",
            "3\n",
            "4\n",
            "5\n"
          ],
          "name": "stdout"
        }
      ]
    },
    {
      "cell_type": "code",
      "metadata": {
        "id": "xXHPb4Qyq5xP"
      },
      "source": [
        ""
      ],
      "execution_count": null,
      "outputs": []
    }
  ]
}