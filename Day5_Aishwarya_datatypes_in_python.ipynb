{
  "nbformat": 4,
  "nbformat_minor": 0,
  "metadata": {
    "colab": {
      "name": "Day5_Aishwarya_datatypes_in_python.ipynb",
      "provenance": [],
      "collapsed_sections": []
    },
    "kernelspec": {
      "name": "python3",
      "display_name": "Python 3"
    }
  },
  "cells": [
    {
      "cell_type": "markdown",
      "metadata": {
        "id": "2YKKxW6o-zoX"
      },
      "source": [
        "Integers, floating point numbers and complex numbers fall under Python numbers category. They are defined as int, float and complex classes in Python.\r\n",
        "\r\n",
        "We can use the type() function to know which class a variable or a value belongs to. Similarly, the isinstance() function is used to check if an object belongs to a particular class."
      ]
    },
    {
      "cell_type": "code",
      "metadata": {
        "colab": {
          "base_uri": "https://localhost:8080/"
        },
        "id": "dlQ7P-Tb_4oe",
        "outputId": "233a64a9-2f9f-4288-8883-2ea33218cb43"
      },
      "source": [
        "a = 5\r\n",
        "print(a, \"is of type\", type(a))\r\n",
        "\r\n",
        "a = 2.0\r\n",
        "print(a, \"is of type\", type(a))\r\n",
        "\r\n",
        "a = 1+2j\r\n",
        "print(a, \"is complex number?\", isinstance(1+2j,complex))"
      ],
      "execution_count": 1,
      "outputs": [
        {
          "output_type": "stream",
          "text": [
            "5 is of type <class 'int'>\n",
            "2.0 is of type <class 'float'>\n",
            "(1+2j) is complex number? True\n"
          ],
          "name": "stdout"
        }
      ]
    },
    {
      "cell_type": "code",
      "metadata": {
        "colab": {
          "base_uri": "https://localhost:8080/"
        },
        "id": "EFD5tvKD_95S",
        "outputId": "85537bd5-d74d-4868-e17a-265938aa72b0"
      },
      "source": [
        "#Integer to Binary Conversion bin()\r\n",
        "a=25\r\n",
        "print(\"The type of variable having value\", bin(a), \" is \", type(a))"
      ],
      "execution_count": 2,
      "outputs": [
        {
          "output_type": "stream",
          "text": [
            "The type of variable having value 0b11001  is  <class 'int'>\n"
          ],
          "name": "stdout"
        }
      ]
    },
    {
      "cell_type": "code",
      "metadata": {
        "colab": {
          "base_uri": "https://localhost:8080/"
        },
        "id": "t8L2z0oiAKJi",
        "outputId": "c566ec30-1f77-43c7-ac1b-9e3741883377"
      },
      "source": [
        "#Binary to Integer Conversion prefix 0b (zero + lowercase letter 'b')\r\n",
        "a=0b1111                          \r\n",
        "print(\"The type of variable having value\", int(a), \" is \", type(a))"
      ],
      "execution_count": 3,
      "outputs": [
        {
          "output_type": "stream",
          "text": [
            "The type of variable having value 15  is  <class 'int'>\n"
          ],
          "name": "stdout"
        }
      ]
    },
    {
      "cell_type": "code",
      "metadata": {
        "colab": {
          "base_uri": "https://localhost:8080/"
        },
        "id": "xqyXV31aAQ5X",
        "outputId": "009b513f-4f38-4d71-e742-1e9e8b1984eb"
      },
      "source": [
        "# exp2 Binary to Integer Conversion 0B (zero + uppercase letter 'B')\r\n",
        "a = -0B1111\r\n",
        "print(\"The type of variable having value\", int(a), \" is \", type(a))"
      ],
      "execution_count": 4,
      "outputs": [
        {
          "output_type": "stream",
          "text": [
            "The type of variable having value -15  is  <class 'int'>\n"
          ],
          "name": "stdout"
        }
      ]
    },
    {
      "cell_type": "code",
      "metadata": {
        "colab": {
          "base_uri": "https://localhost:8080/"
        },
        "id": "4qB2cllSAV9F",
        "outputId": "bf47a6eb-50e3-40eb-bd4e-988bd90d39eb"
      },
      "source": [
        "# exp2 Binary to Integer Conversion 0B (zero + uppercase letter 'B')\r\n",
        "a = -0B1111\r\n",
        "print(\"The type of variable having value\", int(a), \" is \", type(a))"
      ],
      "execution_count": 5,
      "outputs": [
        {
          "output_type": "stream",
          "text": [
            "The type of variable having value -15  is  <class 'int'>\n"
          ],
          "name": "stdout"
        }
      ]
    },
    {
      "cell_type": "code",
      "metadata": {
        "colab": {
          "base_uri": "https://localhost:8080/"
        },
        "id": "SV7FC_lQAa6W",
        "outputId": "15f74b45-5332-4be3-8c8e-76b25eeac663"
      },
      "source": [
        "#Integer to Octal Conversion oct()\r\n",
        "a = 23\r\n",
        "print(\"The type of variable having value\", oct(a), \" is \", type(a))\r\n",
        "\r\n",
        "#Octal To Integer Conversion 0o (zero + lowercase letter 'o')\r\n",
        "a = 0o1111\r\n",
        "print(\"The type of variable having value\", int(a), \" is \", type(a))\r\n",
        "\r\n",
        "#Octal To Integer Conversion 0O (zero + uppercase letter 'O')\r\n",
        "a = 0O7777\r\n",
        "print(\"The type of variable having value\", int(a), \" is \", type(a))"
      ],
      "execution_count": 6,
      "outputs": [
        {
          "output_type": "stream",
          "text": [
            "The type of variable having value 0o27  is  <class 'int'>\n",
            "The type of variable having value 585  is  <class 'int'>\n",
            "The type of variable having value 4095  is  <class 'int'>\n"
          ],
          "name": "stdout"
        }
      ]
    },
    {
      "cell_type": "code",
      "metadata": {
        "colab": {
          "base_uri": "https://localhost:8080/"
        },
        "id": "Six7AwNhAqp2",
        "outputId": "007faffd-2787-4910-ad4f-50526882acb9"
      },
      "source": [
        "#Integer to Hexadecimal Conversion hex()\r\n",
        "a = 63\r\n",
        "print(\"The type of variable having value\", hex(a), \" is \", type(a))\r\n",
        "\r\n",
        "#Hexadeciaml to Integer Conversion 0X (zero + uppercase letter 'X')\r\n",
        "a = 0XFace\r\n",
        "print(\"The type of variable having value\", int(a), \" is \", type(a))\r\n",
        "\r\n",
        "#Hexadecimal to Integer Conversion 0x (zero + lowercase letter 'x')\r\n",
        "a = 0xBeef\r\n",
        "print(\"The type of variable having value\", int(a), \" is \", type(a))"
      ],
      "execution_count": 7,
      "outputs": [
        {
          "output_type": "stream",
          "text": [
            "The type of variable having value 0x3f  is  <class 'int'>\n",
            "The type of variable having value 64206  is  <class 'int'>\n",
            "The type of variable having value 48879  is  <class 'int'>\n"
          ],
          "name": "stdout"
        }
      ]
    },
    {
      "cell_type": "markdown",
      "metadata": {
        "id": "VwZO70xnBaxE"
      },
      "source": [
        "##Numeric Type Conversion\r\n",
        "\r\n",
        "Most of the time Python will do variable conversion automatically. You can also use Python conversion functions \r\n",
        "\r\n",
        "int(), \r\n",
        "\r\n",
        "float(),\r\n",
        "\r\n",
        "complex()\r\n",
        "\r\n",
        "to convert data from one type to another. In addition, the type function returns information about how your data is stored within a variable."
      ]
    },
    {
      "cell_type": "markdown",
      "metadata": {
        "id": "XAssLHFyBcn0"
      },
      "source": [
        "##CONVERTING INTEGER DATA TO FLOAT AND COMPLEX"
      ]
    },
    {
      "cell_type": "code",
      "metadata": {
        "colab": {
          "base_uri": "https://localhost:8080/"
        },
        "id": "dbr4JW60Bg28",
        "outputId": "db8b8266-38f5-42d5-9fb4-dc96788b62b9"
      },
      "source": [
        "#Converting Integer to Float\r\n",
        "a=100\r\n",
        "print(type(a))\r\n",
        "b =  float(a)\r\n",
        "print(type(b))\r\n",
        "\r\n",
        "#Converting Integer to complex\r\n",
        "a=100\r\n",
        "print(\"Type conversion to float \", complex(a))\r\n",
        "\r\n",
        "c = complex(4,5)\r\n",
        "c"
      ],
      "execution_count": 9,
      "outputs": [
        {
          "output_type": "stream",
          "text": [
            "<class 'int'>\n",
            "<class 'float'>\n",
            "Type conversion to float  (100+0j)\n"
          ],
          "name": "stdout"
        },
        {
          "output_type": "execute_result",
          "data": {
            "text/plain": [
              "(4+5j)"
            ]
          },
          "metadata": {
            "tags": []
          },
          "execution_count": 9
        }
      ]
    },
    {
      "cell_type": "markdown",
      "metadata": {
        "id": "Nl1EFV8yB93I"
      },
      "source": [
        "##CONVERTING FLOAT TO INTEGER AND COMPLEX"
      ]
    },
    {
      "cell_type": "code",
      "metadata": {
        "colab": {
          "base_uri": "https://localhost:8080/"
        },
        "id": "fzVXv8G1B_Nx",
        "outputId": "a678a4c6-d4eb-4523-cc38-040bc8edfe9b"
      },
      "source": [
        "#converting  a variable with float value to Integer\r\n",
        "b=10.2345\r\n",
        "print(\"Flaot to integer is\", int(b))\r\n",
        "\r\n",
        "#converting a variable with float value Complex\r\n",
        "b=10.2345\r\n",
        "print(\"Float to Complex is\", complex(b))\r\n"
      ],
      "execution_count": 10,
      "outputs": [
        {
          "output_type": "stream",
          "text": [
            "Flaot to integer is 10\n",
            "Float to Complex is (10.2345+0j)\n"
          ],
          "name": "stdout"
        }
      ]
    },
    {
      "cell_type": "markdown",
      "metadata": {
        "id": "P306t40DCXkq"
      },
      "source": [
        "##setting precision"
      ]
    },
    {
      "cell_type": "code",
      "metadata": {
        "colab": {
          "base_uri": "https://localhost:8080/"
        },
        "id": "8Xe0cOZZCE6v",
        "outputId": "beb29800-bec0-4ba2-e32e-685b8a0aec2d"
      },
      "source": [
        "a = 3.4536879700\r\n",
        "  \r\n",
        "# using \"%\" to print value till 2 decimal places  \r\n",
        "print (\"The value of number till 2 decimal place(using %) is : \",end=\"\") \r\n",
        "print ('%.f'%a) \r\n",
        "  \r\n",
        "# using format() to print value till 3 decimal places  \r\n",
        "print (\"The value of number till 3 decimal place(using format()) is : \",end=\"\") \r\n",
        "print (\"{0:.3f}\".format(a)) \r\n",
        "  \r\n",
        "# using round() to print value till 1 decimal places  \r\n",
        "print (\"The value of number till 1 decimal place(using round()) is : \",end=\"\") \r\n",
        "print (round(a,1)) "
      ],
      "execution_count": 11,
      "outputs": [
        {
          "output_type": "stream",
          "text": [
            "The value of number till 2 decimal place(using %) is : 3\n",
            "The value of number till 3 decimal place(using format()) is : 3.454\n",
            "The value of number till 1 decimal place(using round()) is : 3.5\n"
          ],
          "name": "stdout"
        }
      ]
    },
    {
      "cell_type": "markdown",
      "metadata": {
        "id": "ZsALOH6sD48u"
      },
      "source": [
        "## datatype - STRING"
      ]
    },
    {
      "cell_type": "code",
      "metadata": {
        "colab": {
          "base_uri": "https://localhost:8080/"
        },
        "id": "ZINm1DT2CWTv",
        "outputId": "a71fb48f-a6e2-4181-8c36-d01805da0813"
      },
      "source": [
        "a = \"string in a double quote\"\r\n",
        "b = 'string in a single quote'\r\n",
        "print(a)\r\n",
        "print(type(a))\r\n",
        "print(b)\r\n",
        "\r\n",
        "# using ',' to concatenate the two or several strings\r\n",
        "print(a,\"concatenated with\",b)\r\n",
        "\r\n",
        "#using '+' to concate the two or several strings\r\n",
        "print(a+\" concated with \"+b)\r\n",
        "\r\n",
        "element = \"elephant\"\r\n",
        "count = 5\r\n",
        "print (\"The item {} is repeated {} times\".format(element,count))\r\n",
        "\r\n",
        "guest = \"AISHWARYA\"\r\n",
        "time = \"6 AM\"\r\n",
        "print(\"Welcome to the party {} At {}\".format(guest,time))"
      ],
      "execution_count": 12,
      "outputs": [
        {
          "output_type": "stream",
          "text": [
            "string in a double quote\n",
            "<class 'str'>\n",
            "string in a single quote\n",
            "string in a double quote concatenated with string in a single quote\n",
            "string in a double quote concated with string in a single quote\n",
            "The item elephant is repeated 5 times\n",
            "Welcome to the party AISHWARYA At 6 AM\n"
          ],
          "name": "stdout"
        }
      ]
    },
    {
      "cell_type": "markdown",
      "metadata": {
        "id": "9VFPjAgQENXJ"
      },
      "source": [
        "##Escape sequencing in python"
      ]
    },
    {
      "cell_type": "code",
      "metadata": {
        "colab": {
          "base_uri": "https://localhost:8080/"
        },
        "id": "vPBlyTPuD15A",
        "outputId": "b834dad0-33a0-448e-8119-e2c1c260b0bd"
      },
      "source": [
        "# Python Program for  \r\n",
        "# Escape Sequencing   \r\n",
        "# of String  \r\n",
        "    \r\n",
        "# Initial String  \r\n",
        "String1 = '''I'm a \"Geek\"'''\r\n",
        "print(\"Initial String with use of Triple Quotes: \")  \r\n",
        "print(String1)  \r\n",
        "    \r\n",
        "# Escaping Single Quote   \r\n",
        "String1 = 'I\\'m a \"Geek\"'\r\n",
        "print(\"\\nEscaping Single Quote: \")  \r\n",
        "print(String1)  \r\n",
        "    \r\n",
        "# Escaping Doule Quotes  \r\n",
        "String1 = \"I'm a \\\"Geek\\\"\"\r\n",
        "print(\"\\nEscaping Double Quotes: \")  \r\n",
        "print(String1)  \r\n",
        "    \r\n",
        "# Printing Paths with the   \r\n",
        "# use of Escape Sequences  \r\n",
        "String1 = \"C:\\\\Python\\\\Geeks\\\\\"\r\n",
        "print(\"\\nEscaping Backslashes: \")  \r\n",
        "print(String1)"
      ],
      "execution_count": 13,
      "outputs": [
        {
          "output_type": "stream",
          "text": [
            "Initial String with use of Triple Quotes: \n",
            "I'm a \"Geek\"\n",
            "\n",
            "Escaping Single Quote: \n",
            "I'm a \"Geek\"\n",
            "\n",
            "Escaping Double Quotes: \n",
            "I'm a \"Geek\"\n",
            "\n",
            "Escaping Backslashes: \n",
            "C:\\Python\\Geeks\\\n"
          ],
          "name": "stdout"
        }
      ]
    },
    {
      "cell_type": "markdown",
      "metadata": {
        "id": "epgDF6nxhVYj"
      },
      "source": [
        "##Applying special meaning to characters"
      ]
    },
    {
      "cell_type": "code",
      "metadata": {
        "colab": {
          "base_uri": "https://localhost:8080/"
        },
        "id": "aohJ2PquELI7",
        "outputId": "8d2714a7-da75-41e6-e553-b58fa4cebb3f"
      },
      "source": [
        "print('foo\\tbar')"
      ],
      "execution_count": 1,
      "outputs": [
        {
          "output_type": "stream",
          "text": [
            "foo\tbar\n"
          ],
          "name": "stdout"
        }
      ]
    },
    {
      "cell_type": "markdown",
      "metadata": {
        "id": "yg2c6bhThgKX"
      },
      "source": [
        "Here is a list of escape sequences that cause Python to apply special meaning instead of interpreting literally"
      ]
    },
    {
      "cell_type": "markdown",
      "metadata": {
        "id": "Z2v5EROihxDG"
      },
      "source": [
        "\\a-> ASCII Bell (BEL) character\r\n",
        "\r\n",
        "\\b-> ASCII Backspace (BS) character\r\n",
        "\r\n",
        "\\f-> ASCII Formfeed (FF) character\r\n",
        "\r\n",
        "\\n-> ASCII Linefeed (LF) character\r\n",
        "\r\n",
        "\\N{}-> Character from Unicode database with given\r\n",
        "\r\n",
        "\\r-> ASCII Carriage Return (CR) character\r\n",
        "\r\n",
        "\\t -> ASCII Horizontal Tab (TAB) character\r\n",
        "\r\n",
        "\\uxxxx-> Unicode character with 16-bit hex value xxxx\r\n",
        "\r\n",
        "\\Uxxxxxxxx-> Unicode character with 32-bit hex value xxxxxxxx\r\n",
        "\r\n",
        "\\v-> ASCII Vertical Tab (VT) character\r\n",
        "\r\n",
        "\\ooo-> Character with octal value ooo\r\n",
        "\r\n",
        "\\xhh-> Character with hex value hh"
      ]
    },
    {
      "cell_type": "markdown",
      "metadata": {
        "id": "04uuxminiOth"
      },
      "source": [
        "##Operations on string"
      ]
    },
    {
      "cell_type": "markdown",
      "metadata": {
        "id": "KJ1BYjzbiSe6"
      },
      "source": [
        "#Indexing in Python\r\n",
        "Positive Indexing -> Left To Right\r\n",
        "\r\n",
        "Negative Indexing ->Right to left"
      ]
    },
    {
      "cell_type": "code",
      "metadata": {
        "colab": {
          "base_uri": "https://localhost:8080/"
        },
        "id": "sDx1OQVAiwN8",
        "outputId": "8976c361-b8d5-4ec7-99df-0fb6ebbec361"
      },
      "source": [
        "s = \"#AISHWARYA\"\r\n",
        "#Positive Indexing In Python\r\n",
        "print(s[0])\r\n",
        "print(s[1])\r\n",
        "print(s[2])\r\n",
        "print(s[3])\r\n",
        "print(s[4])\r\n",
        "print(s[5])\r\n",
        "print(s[6])\r\n",
        "print(s[7])\r\n",
        "print(s[8])\r\n",
        "print(s[9])"
      ],
      "execution_count": 4,
      "outputs": [
        {
          "output_type": "stream",
          "text": [
            "#\n",
            "A\n",
            "I\n",
            "S\n",
            "H\n",
            "W\n",
            "A\n",
            "R\n",
            "Y\n",
            "A\n"
          ],
          "name": "stdout"
        }
      ]
    },
    {
      "cell_type": "code",
      "metadata": {
        "colab": {
          "base_uri": "https://localhost:8080/"
        },
        "id": "6V_gR_0Mi2pl",
        "outputId": "468ecb74-ae13-47da-bff0-953a89701a71"
      },
      "source": [
        "s = \"#AISHWARYA\"\r\n",
        "#Negative Indexing In Python\r\n",
        "print(s[-1])\r\n",
        "print(s[-2])\r\n",
        "print(s[-3])\r\n",
        "print(s[-4])\r\n",
        "print(s[-5])\r\n",
        "print(s[-6])\r\n",
        "print(s[-7])\r\n",
        "print(s[-8])\r\n",
        "print(s[-9])\r\n",
        "print(s[-10])"
      ],
      "execution_count": 5,
      "outputs": [
        {
          "output_type": "stream",
          "text": [
            "A\n",
            "Y\n",
            "R\n",
            "A\n",
            "W\n",
            "H\n",
            "S\n",
            "I\n",
            "A\n",
            "#\n"
          ],
          "name": "stdout"
        }
      ]
    },
    {
      "cell_type": "markdown",
      "metadata": {
        "id": "omWFKG-ClSPv"
      },
      "source": [
        "#Slice Operator\r\n",
        "\r\n",
        "Slice itself is a substring creator\r\n",
        "\r\n",
        "Slicing is a technique for extracting parts of a string.\r\n",
        "\r\n",
        "Note: In Python, index starts from 0.\r\n",
        "\r\n",
        "To access substrings, use the square brackets for slicing along with the index or indices to obtain your substring. "
      ]
    },
    {
      "cell_type": "markdown",
      "metadata": {
        "id": "jll2YP9_ldJ_"
      },
      "source": [
        "#Syntax\r\n",
        "\r\n",
        "str[begin:end]"
      ]
    },
    {
      "cell_type": "code",
      "metadata": {
        "colab": {
          "base_uri": "https://localhost:8080/",
          "height": 35
        },
        "id": "SY-_qqULlet4",
        "outputId": "62988a74-3f69-447e-8cf4-03e663d6557b"
      },
      "source": [
        "s[0:4] #AISHWARYA\r\n"
      ],
      "execution_count": 9,
      "outputs": [
        {
          "output_type": "execute_result",
          "data": {
            "application/vnd.google.colaboratory.intrinsic+json": {
              "type": "string"
            },
            "text/plain": [
              "'#AIS'"
            ]
          },
          "metadata": {
            "tags": []
          },
          "execution_count": 9
        }
      ]
    },
    {
      "cell_type": "code",
      "metadata": {
        "colab": {
          "base_uri": "https://localhost:8080/",
          "height": 35
        },
        "id": "3k7IGLXdluoh",
        "outputId": "70f8594a-0c2d-4559-d241-47da324b9044"
      },
      "source": [
        "s[1:] #AISHWARYA  #Default value is end of string if not specified where to end.\r\n",
        "\r\n",
        "#end is optional"
      ],
      "execution_count": 11,
      "outputs": [
        {
          "output_type": "execute_result",
          "data": {
            "application/vnd.google.colaboratory.intrinsic+json": {
              "type": "string"
            },
            "text/plain": [
              "'AISHWARYA'"
            ]
          },
          "metadata": {
            "tags": []
          },
          "execution_count": 11
        }
      ]
    },
    {
      "cell_type": "code",
      "metadata": {
        "colab": {
          "base_uri": "https://localhost:8080/",
          "height": 35
        },
        "id": "mK-zAEN6mFST",
        "outputId": "bf1da729-f5ca-4ab5-db55-706ef865bbc8"
      },
      "source": [
        "s[:5] #if start value is not specified it will start from begning.\r\n",
        "\r\n",
        "#begning is optional"
      ],
      "execution_count": 12,
      "outputs": [
        {
          "output_type": "execute_result",
          "data": {
            "application/vnd.google.colaboratory.intrinsic+json": {
              "type": "string"
            },
            "text/plain": [
              "'#AISH'"
            ]
          },
          "metadata": {
            "tags": []
          },
          "execution_count": 12
        }
      ]
    },
    {
      "cell_type": "code",
      "metadata": {
        "colab": {
          "base_uri": "https://localhost:8080/",
          "height": 35
        },
        "id": "WMXpe2sumlN5",
        "outputId": "c019b754-0c70-41cb-dca5-2af1eea668f2"
      },
      "source": [
        "s[-4:-1] #begning value should be lower and end value should be higher"
      ],
      "execution_count": 13,
      "outputs": [
        {
          "output_type": "execute_result",
          "data": {
            "application/vnd.google.colaboratory.intrinsic+json": {
              "type": "string"
            },
            "text/plain": [
              "'ARY'"
            ]
          },
          "metadata": {
            "tags": []
          },
          "execution_count": 13
        }
      ]
    },
    {
      "cell_type": "markdown",
      "metadata": {
        "id": "nt2gEiJkou4W"
      },
      "source": [
        "##Type Conversion\r\n",
        "\r\n",
        "ascii()\tReturns a string containing a printable\r\n",
        " representation of an object\r\n",
        "\r\n",
        "bin()\tConverts an integer to a binary string\r\n",
        "\r\n",
        "bool()\tConverts an argument to a Boolean value\r\n",
        "\r\n",
        "chr()\tReturns string representation of character given by integer argument\r\n",
        "\r\n",
        "complex()\tReturns a complex number constructed from arguments\r\n",
        "\r\n",
        "float()\tReturns a floating-point object constructed from a number or string\r\n",
        "\r\n",
        "hex()\tConverts an integer to a hexadecimal string\r\n",
        "\r\n",
        "int()\tReturns an integer object constructed from a number or string\r\n",
        "\r\n",
        "oct()\tConverts an integer to an octal string\r\n",
        "\r\n",
        "ord()\tReturns integer representation of a character\r\n",
        "\r\n",
        "repr()\tReturns a string containing a printable \r\n",
        "representation of an object\r\n",
        "\r\n",
        "str()\tReturns a string version of an object\r\n",
        "\r\n",
        "type()\tReturns the type of an object or creates a new type object"
      ]
    },
    {
      "cell_type": "code",
      "metadata": {
        "colab": {
          "base_uri": "https://localhost:8080/",
          "height": 35
        },
        "id": "1ONoGfaOqBTI",
        "outputId": "315a9d8b-d3c6-4a83-f3be-c311c1c2092f"
      },
      "source": [
        "#capitalize(): Converts the first character of a string to uppercase letters.\r\n",
        "mystr='python'\r\n",
        "mystr.capitalize()\r\n"
      ],
      "execution_count": 14,
      "outputs": [
        {
          "output_type": "execute_result",
          "data": {
            "application/vnd.google.colaboratory.intrinsic+json": {
              "type": "string"
            },
            "text/plain": [
              "'Python'"
            ]
          },
          "metadata": {
            "tags": []
          },
          "execution_count": 14
        }
      ]
    },
    {
      "cell_type": "code",
      "metadata": {
        "colab": {
          "base_uri": "https://localhost:8080/",
          "height": 35
        },
        "id": "uNnhBVPTqB2T",
        "outputId": "4959ffed-53bb-47bf-f395-a89ac1156abc"
      },
      "source": [
        "#upper() Replaces the lowercase characters in a string with corresponding uppercase characters.\r\n",
        "mystr='Python'\r\n",
        "mystr.upper()"
      ],
      "execution_count": 15,
      "outputs": [
        {
          "output_type": "execute_result",
          "data": {
            "application/vnd.google.colaboratory.intrinsic+json": {
              "type": "string"
            },
            "text/plain": [
              "'PYTHON'"
            ]
          },
          "metadata": {
            "tags": []
          },
          "execution_count": 15
        }
      ]
    },
    {
      "cell_type": "code",
      "metadata": {
        "colab": {
          "base_uri": "https://localhost:8080/",
          "height": 35
        },
        "id": "323N83fJqHxC",
        "outputId": "2aa390d6-61b2-4443-9e3f-b2bb6de42016"
      },
      "source": [
        "#lower() Replaces the uppercase characters in a string with corresponding lowercase characters.\r\n",
        "mystr='PYTHON'\r\n",
        "mystr.lower()"
      ],
      "execution_count": 16,
      "outputs": [
        {
          "output_type": "execute_result",
          "data": {
            "application/vnd.google.colaboratory.intrinsic+json": {
              "type": "string"
            },
            "text/plain": [
              "'python'"
            ]
          },
          "metadata": {
            "tags": []
          },
          "execution_count": 16
        }
      ]
    },
    {
      "cell_type": "code",
      "metadata": {
        "colab": {
          "base_uri": "https://localhost:8080/",
          "height": 35
        },
        "id": "MhfPFs-4qNCF",
        "outputId": "888df5ff-e0e1-4c62-d7d0-eb707d45d17f"
      },
      "source": [
        "#title():Returns the string with the first character of each word converted to uppercase.\r\n",
        "mystr='python tutorial from tutorials teacher'\r\n",
        "mystr.title()"
      ],
      "execution_count": 17,
      "outputs": [
        {
          "output_type": "execute_result",
          "data": {
            "application/vnd.google.colaboratory.intrinsic+json": {
              "type": "string"
            },
            "text/plain": [
              "'Python Tutorial From Tutorials Teacher'"
            ]
          },
          "metadata": {
            "tags": []
          },
          "execution_count": 17
        }
      ]
    },
    {
      "cell_type": "code",
      "metadata": {
        "colab": {
          "base_uri": "https://localhost:8080/"
        },
        "id": "9ImHiiBgqU-5",
        "outputId": "05115dc3-8131-4631-d0d1-be426df74be9"
      },
      "source": [
        "#find():The find() method finds the first occurrence of a substring in another string. If not found, the method returns -1.\r\n",
        "mystr='Python Tutorial From Tutorials Teacher'\r\n",
        "mystr.find('From')"
      ],
      "execution_count": 18,
      "outputs": [
        {
          "output_type": "execute_result",
          "data": {
            "text/plain": [
              "16"
            ]
          },
          "metadata": {
            "tags": []
          },
          "execution_count": 18
        }
      ]
    },
    {
      "cell_type": "code",
      "metadata": {
        "colab": {
          "base_uri": "https://localhost:8080/"
        },
        "id": "9uqu-q8JqZ8b",
        "outputId": "6c9c8e85-ed3c-4e11-ef23-e0143552dd71"
      },
      "source": [
        "#count():The count() method returns the number of occurrences of a substring in the given string.\r\n",
        "mystr='Python Tutorial From Tutorials Teacher'\r\n",
        "mystr.count('Tutorial')"
      ],
      "execution_count": 19,
      "outputs": [
        {
          "output_type": "execute_result",
          "data": {
            "text/plain": [
              "2"
            ]
          },
          "metadata": {
            "tags": []
          },
          "execution_count": 19
        }
      ]
    },
    {
      "cell_type": "code",
      "metadata": {
        "colab": {
          "base_uri": "https://localhost:8080/"
        },
        "id": "C3QzwNfwqfgF",
        "outputId": "498b14e9-41e3-4be2-cc6e-cc531df645fb"
      },
      "source": [
        "#isalpha():The isalpha() method returns true if all the characters in a string are alphabetic letters (a-z or A-Z), otherwise it returns false.\r\n",
        "mystr='TutorialsTeacher'\r\n",
        "mystr.isalpha()"
      ],
      "execution_count": 20,
      "outputs": [
        {
          "output_type": "execute_result",
          "data": {
            "text/plain": [
              "True"
            ]
          },
          "metadata": {
            "tags": []
          },
          "execution_count": 20
        }
      ]
    },
    {
      "cell_type": "code",
      "metadata": {
        "colab": {
          "base_uri": "https://localhost:8080/"
        },
        "id": "joGp1jcoqkNE",
        "outputId": "a20afdb7-5c2f-4dfc-d3fd-c6696d89db70"
      },
      "source": [
        "#isdigit() The isdigit() is method returns true if all the characters in string are digits (0-9), if not, it returns false.\r\n",
        "str1='2000'\r\n",
        "str1.isdigit()"
      ],
      "execution_count": 21,
      "outputs": [
        {
          "output_type": "execute_result",
          "data": {
            "text/plain": [
              "True"
            ]
          },
          "metadata": {
            "tags": []
          },
          "execution_count": 21
        }
      ]
    },
    {
      "cell_type": "code",
      "metadata": {
        "colab": {
          "base_uri": "https://localhost:8080/"
        },
        "id": "Px9Xtu3xqm4R",
        "outputId": "0352f3cc-012c-4d88-f99e-02450cf972c8"
      },
      "source": [
        "#islower() The islower() method returns true if all the characters in the string are lowercase characters, else it returns false.\r\n",
        "str1='python'\r\n",
        "str1.islower()"
      ],
      "execution_count": 22,
      "outputs": [
        {
          "output_type": "execute_result",
          "data": {
            "text/plain": [
              "True"
            ]
          },
          "metadata": {
            "tags": []
          },
          "execution_count": 22
        }
      ]
    },
    {
      "cell_type": "code",
      "metadata": {
        "colab": {
          "base_uri": "https://localhost:8080/"
        },
        "id": "aLba_Rd7qtg2",
        "outputId": "06e76d9b-734f-429d-a22f-873687236311"
      },
      "source": [
        "#isupper() The isupper() method returns true if all the characters in the string are uppercase characters, else it returns false.\r\n",
        "var='TUTORIALSTEACHER'\r\n",
        "var.isupper()"
      ],
      "execution_count": 23,
      "outputs": [
        {
          "output_type": "execute_result",
          "data": {
            "text/plain": [
              "True"
            ]
          },
          "metadata": {
            "tags": []
          },
          "execution_count": 23
        }
      ]
    },
    {
      "cell_type": "code",
      "metadata": {
        "colab": {
          "base_uri": "https://localhost:8080/",
          "height": 35
        },
        "id": "ROyU9kucqzOu",
        "outputId": "981c9a00-7a52-444e-e824-9360f970e970"
      },
      "source": [
        "# '+'\tAppends the second string to the first\r\n",
        "a='hello'\r\n",
        "b='world'\r\n",
        "a+b\r\n"
      ],
      "execution_count": 24,
      "outputs": [
        {
          "output_type": "execute_result",
          "data": {
            "application/vnd.google.colaboratory.intrinsic+json": {
              "type": "string"
            },
            "text/plain": [
              "'helloworld'"
            ]
          },
          "metadata": {
            "tags": []
          },
          "execution_count": 24
        }
      ]
    },
    {
      "cell_type": "code",
      "metadata": {
        "colab": {
          "base_uri": "https://localhost:8080/",
          "height": 35
        },
        "id": "s-cExNmqq3sx",
        "outputId": "2f6f9bb6-872a-49fa-9529-40877008f0c9"
      },
      "source": [
        "# '*'\tConcatenates multiple copies of the same string\r\n",
        "a='hello'\r\n",
        "a*3"
      ],
      "execution_count": 25,
      "outputs": [
        {
          "output_type": "execute_result",
          "data": {
            "application/vnd.google.colaboratory.intrinsic+json": {
              "type": "string"
            },
            "text/plain": [
              "'hellohellohello'"
            ]
          },
          "metadata": {
            "tags": []
          },
          "execution_count": 25
        }
      ]
    },
    {
      "cell_type": "code",
      "metadata": {
        "colab": {
          "base_uri": "https://localhost:8080/"
        },
        "id": "S3Q36XLiq8lH",
        "outputId": "04bb4d1e-e909-4f07-d29f-eb4786fa8846"
      },
      "source": [
        "# 'in'\tReturns true if a character exists in the given string\r\n",
        "a = 'Python Tutorials'\r\n",
        "'X' in a"
      ],
      "execution_count": 26,
      "outputs": [
        {
          "output_type": "execute_result",
          "data": {
            "text/plain": [
              "False"
            ]
          },
          "metadata": {
            "tags": []
          },
          "execution_count": 26
        }
      ]
    },
    {
      "cell_type": "code",
      "metadata": {
        "colab": {
          "base_uri": "https://localhost:8080/"
        },
        "id": "fEBjtwEkrDj6",
        "outputId": "e62caf43-2913-42c6-9ff5-e2353a2ec2f7"
      },
      "source": [
        "# 'not in' Returns true if a character does not exist in the given string \r\n",
        "a = 'Python Tutorials'\r\n",
        "'X' not in a"
      ],
      "execution_count": 27,
      "outputs": [
        {
          "output_type": "execute_result",
          "data": {
            "text/plain": [
              "True"
            ]
          },
          "metadata": {
            "tags": []
          },
          "execution_count": 27
        }
      ]
    },
    {
      "cell_type": "markdown",
      "metadata": {
        "id": "AzVK9uO1rrcC"
      },
      "source": [
        "%c\tcharacter\r\n",
        "\r\n",
        "%s\tstring conversion via str() prior to formatting\r\n",
        "\r\n",
        "%i\tsigned decimal integer\r\n",
        "\r\n",
        "%d\tsigned decimal integer\r\n",
        "\r\n",
        "%u\tunsigned decimal integer\r\n",
        "\r\n",
        "%o\toctal integer\r\n",
        "\r\n",
        "%x / %X\thexadecimal integer (lowercase letters)\r\n",
        "\r\n",
        "%e / %E\texponential notation (with lowercase 'e')\r\n",
        "\r\n",
        "%f\tfloating point real number"
      ]
    },
    {
      "cell_type": "code",
      "metadata": {
        "colab": {
          "base_uri": "https://localhost:8080/"
        },
        "id": "m4Kp1JZXryc0",
        "outputId": "bc4022aa-cf85-4922-a3f1-844056a0bfea"
      },
      "source": [
        "b = str(123)\r\n",
        "print(type(b))"
      ],
      "execution_count": 28,
      "outputs": [
        {
          "output_type": "stream",
          "text": [
            "<class 'str'>\n"
          ],
          "name": "stdout"
        }
      ]
    },
    {
      "cell_type": "code",
      "metadata": {
        "colab": {
          "base_uri": "https://localhost:8080/"
        },
        "id": "efUgYw5erzBn",
        "outputId": "77b3da31-1879-461f-97fb-b2a8a248f70e"
      },
      "source": [
        "c = '123'\r\n",
        "print(type(c))"
      ],
      "execution_count": 29,
      "outputs": [
        {
          "output_type": "stream",
          "text": [
            "<class 'str'>\n"
          ],
          "name": "stdout"
        }
      ]
    },
    {
      "cell_type": "code",
      "metadata": {
        "id": "OHcrWFXkr51j"
      },
      "source": [
        ""
      ],
      "execution_count": null,
      "outputs": []
    }
  ]
}