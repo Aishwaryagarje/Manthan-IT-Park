{
  "nbformat": 4,
  "nbformat_minor": 0,
  "metadata": {
    "colab": {
      "name": "Day 4 - operators in python.ipynb",
      "provenance": []
    },
    "kernelspec": {
      "name": "python3",
      "display_name": "Python 3"
    }
  },
  "cells": [
    {
      "cell_type": "markdown",
      "metadata": {
        "id": "XvjU4BHBCZBP"
      },
      "source": [
        "**Operators**: Operators are used to perform operations on variables and values.\r\n",
        "            Operators are special symbols in Python that carry out arithmetic   \r\n",
        "            or logical computation. The value that the operator operates on is \r\n",
        "            called the operand."
      ]
    },
    {
      "cell_type": "code",
      "metadata": {
        "colab": {
          "base_uri": "https://localhost:8080/"
        },
        "id": "yRrDFhK_Cu8V",
        "outputId": "760d8ed0-cdc6-4ed6-c3bd-3a216321a1e5"
      },
      "source": [
        "print(10 + 5) #here in the given example, we use the + operator to add together two values"
      ],
      "execution_count": 1,
      "outputs": [
        {
          "output_type": "stream",
          "text": [
            "15\n"
          ],
          "name": "stdout"
        }
      ]
    },
    {
      "cell_type": "markdown",
      "metadata": {
        "id": "9PiUn9txDv0t"
      },
      "source": [
        "Python divides the operators in the following groups:\r\n",
        "\r\n",
        "1. Arithmetic operators\r\n",
        "\r\n",
        "2. Assignment operators\r\n",
        "\r\n",
        "3. Comparison operators\r\n",
        "\r\n",
        "4. Logical operators\r\n",
        "\r\n",
        "5. Identity operators\r\n",
        "\r\n",
        "6. Membership operators\r\n",
        "\r\n",
        "7. Bitwise operators\r\n"
      ]
    },
    {
      "cell_type": "markdown",
      "metadata": {
        "id": "naNYtY5JEVxv"
      },
      "source": [
        "**arithmetic operators**: Arithmetic operators are used with numeric values to perform common mathematical operations"
      ]
    },
    {
      "cell_type": "code",
      "metadata": {
        "colab": {
          "base_uri": "https://localhost:8080/"
        },
        "id": "vWe6g4S6EiKm",
        "outputId": "917ea601-84ed-462b-bc6a-19b9ba22aea1"
      },
      "source": [
        "x=5\r\n",
        "y=10\r\n",
        "#(+) addition\r\n",
        "print('x + y =',x+y) \r\n",
        "#(-) substraction\r\n",
        "print('x - y =',x-y) \r\n",
        "#(*) multiplication \r\n",
        "print('x * y =',x*y)\r\n",
        "#(/) divison\r\n",
        "print('x / y =',x/y)\r\n",
        "#(%) modulus\r\n",
        "print('x % y =',x%y)\r\n",
        "#(**) exponentiation\r\n",
        "print('x ** y =',x**y)\r\n",
        "#(//) floor divison\r\n",
        "print('x // y =',x//y)"
      ],
      "execution_count": 3,
      "outputs": [
        {
          "output_type": "stream",
          "text": [
            "x + y = 15\n",
            "x - y = -5\n",
            "x * y = 50\n",
            "x / y = 0.5\n",
            "x % y = 5\n",
            "x ** y = 9765625\n",
            "x // y = 0\n"
          ],
          "name": "stdout"
        }
      ]
    },
    {
      "cell_type": "markdown",
      "metadata": {
        "id": "Ai611cCvHa4p"
      },
      "source": [
        "**Assignment Operators:**Assignment operators are used to assign values to variables."
      ]
    },
    {
      "cell_type": "code",
      "metadata": {
        "colab": {
          "base_uri": "https://localhost:8080/"
        },
        "id": "LUVWzqBtII8t",
        "outputId": "e6febff1-d986-483f-e2d6-f3c2232dad4a"
      },
      "source": [
        "#(=)\r\n",
        "x=5\r\n",
        "print(x)\r\n",
        "#(+=)\r\n",
        "x = 5\r\n",
        "x += 3\r\n",
        "print(x) \r\n",
        "#(-=)\r\n",
        "x = 5\r\n",
        "x -= 3\r\n",
        "print(x)\r\n",
        "#(*=)\r\n",
        "x = 5\r\n",
        "x *= 3\r\n",
        "print(x)\r\n",
        "#(/=)\r\n",
        "x = 5\r\n",
        "x /= 3\r\n",
        "print(x)\r\n",
        "#(%=)\r\n",
        "x = 5\r\n",
        "x %= 3\r\n",
        "print(x)\r\n",
        "#(**=)\r\n",
        "x = 5\r\n",
        "x **= 3\r\n",
        "print(x)\r\n",
        "#(//=)\r\n",
        "x = 5\r\n",
        "x //= 3\r\n",
        "print(x) \r\n",
        "#(&=)\r\n",
        "x = 5\r\n",
        "x &= 3\r\n",
        "print(x)"
      ],
      "execution_count": 10,
      "outputs": [
        {
          "output_type": "stream",
          "text": [
            "5\n",
            "8\n",
            "2\n",
            "15\n",
            "1.6666666666666667\n",
            "2\n",
            "125\n",
            "1\n",
            "1\n"
          ],
          "name": "stdout"
        }
      ]
    },
    {
      "cell_type": "markdown",
      "metadata": {
        "id": "40cVvMDZKlKN"
      },
      "source": [
        "**Comparision Operators**: Comparison operators are used to compare values. It returns either True or False according to the condition."
      ]
    },
    {
      "cell_type": "code",
      "metadata": {
        "colab": {
          "base_uri": "https://localhost:8080/"
        },
        "id": "3Gg3DwmrK8Va",
        "outputId": "8bec5963-3fd1-4c7c-fc7d-f9d8783f4d63"
      },
      "source": [
        "x = 5\r\n",
        "y = 3\r\n",
        "#(==) equal\r\n",
        "print('x == y is',x==y)\r\n",
        "# returns False because 5 is not equal to 3\r\n",
        "#(!=) not equal\r\n",
        "print('x != y =',x!=y)\r\n",
        "# returns True because 5 is not equal to 3\r\n",
        "#(>) greater than\r\n",
        "print('x > y =',x>y)\r\n",
        "# returns True because 5 is greater than 3\r\n",
        "#(<) less than\r\n",
        "print('x < y =',x<y)\r\n",
        "# returns False because 5 is not less than 3\r\n",
        "#(>=) graeter than equals to\r\n",
        "print('x >= y =',x>=y)\r\n",
        "# returns True because five is greater, or equal, to 3\r\n",
        "#(<=) less than equals to\r\n",
        "print('x <= y =',x<=y)\r\n",
        "# returns False because five is  not less, or equal, to 3\r\n"
      ],
      "execution_count": 21,
      "outputs": [
        {
          "output_type": "stream",
          "text": [
            "x == y is False\n",
            "x != y = True\n",
            "x > y = True\n",
            "x < y = False\n",
            "x >= y = True\n",
            "x <= y = False\n"
          ],
          "name": "stdout"
        }
      ]
    },
    {
      "cell_type": "markdown",
      "metadata": {
        "id": "TAP6uCkWPZCw"
      },
      "source": [
        "**Logical Operators:**Logical operators are used to combine conditional statements:\r\n",
        "\r\n"
      ]
    },
    {
      "cell_type": "code",
      "metadata": {
        "colab": {
          "base_uri": "https://localhost:8080/"
        },
        "id": "6_2AGHgkPsdJ",
        "outputId": "bd8e19f2-8208-41d2-d143-cca3d9a72e93"
      },
      "source": [
        "x=5\r\n",
        "y=10\r\n",
        "# and- returns true if both statements are true\r\n",
        "if y>x and x<y: #since 5<10 and 10>5 so here both the statements are true\r\n",
        " print(\"True\")\r\n",
        "# or- returns true if one of the statements is true\r\n",
        "if x>y or y>x:  #since here only one statement is true and i.e 10>5\r\n",
        "  print(\"True\")\r\n",
        "# not- Reverse the result, returns False if the result is true\r\n",
        "x = 5\r\n",
        "print(not(x > 3 and x < 10)) # returns False because not is used to reverse the result"
      ],
      "execution_count": 33,
      "outputs": [
        {
          "output_type": "stream",
          "text": [
            "True\n",
            "True\n",
            "False\n"
          ],
          "name": "stdout"
        }
      ]
    },
    {
      "cell_type": "markdown",
      "metadata": {
        "id": "uCEyPLyfU5j6"
      },
      "source": [
        "**Identitiy Operator:** Identity operators are used to compare the objects, not if they are equal, but if they are actually the same object, with the same memory location:\r\n",
        "\r\n"
      ]
    },
    {
      "cell_type": "code",
      "metadata": {
        "colab": {
          "base_uri": "https://localhost:8080/"
        },
        "id": "CGaGxWWGVbeM",
        "outputId": "4919ff01-bcb8-4fdf-cbc3-7221d70d0023"
      },
      "source": [
        "x = [\"apple\", \"banana\"]\r\n",
        "y = [\"apple\", \"banana\"]\r\n",
        "z = x\r\n",
        "#(is) Returns True if both variables are the same object\r\n",
        "\r\n",
        "print(x is z)\r\n",
        "\r\n",
        "# returns True because z is the same object as x\r\n",
        "\r\n",
        "print(x is y)\r\n",
        "\r\n",
        "# returns False because x is not the same object as y, even if they have the same content\r\n",
        "\r\n",
        "print(x == y)\r\n",
        "\r\n",
        "# to demonstrate the difference betweeen \"is\" and \"==\": this comparison returns True because x is equal to y\r\n",
        "\r\n",
        "# (is) not\tReturns True if both variables are not the same object\r\n",
        "print(x is not z)\r\n",
        "\r\n",
        "# returns False because z is the same object as x\r\n",
        "\r\n",
        "print(x is not y)\r\n",
        "\r\n",
        "# returns True because x is not the same object as y, even if they have the same content\r\n",
        "\r\n",
        "print(x != y)\r\n",
        "\r\n",
        "# to demonstrate the difference betweeen \"is not\" and \"!=\": this comparison returns False because x is equal to y\r\n"
      ],
      "execution_count": 35,
      "outputs": [
        {
          "output_type": "stream",
          "text": [
            "True\n",
            "False\n",
            "True\n",
            "False\n",
            "True\n",
            "False\n"
          ],
          "name": "stdout"
        }
      ]
    },
    {
      "cell_type": "markdown",
      "metadata": {
        "id": "wIjvTTuaWYy_"
      },
      "source": [
        "**Membership Operators:** Membership operators are used to test if a sequence is presented in an object:\r\n",
        "\r\n"
      ]
    },
    {
      "cell_type": "code",
      "metadata": {
        "colab": {
          "base_uri": "https://localhost:8080/"
        },
        "id": "Hy7LH34-Wlg1",
        "outputId": "9248fcf5-7071-4325-ef27-0cb4cc09e861"
      },
      "source": [
        "x = [\"apple\", \"banana\"]\r\n",
        "# (in)\tReturns True if a sequence with the specified value is present in the object\r\n",
        "\r\n",
        "print(\"banana\" in x)\r\n",
        "\r\n",
        "# returns True because a sequence with the value \"banana\" is in the list\r\n",
        "\r\n",
        "#(not in)\t Returns True if a sequence with the specified value is not present in the object\r\n",
        "\r\n",
        "print(\"pineapple\" not in x)\r\n",
        "\r\n",
        "# returns True because a sequence with the value \"pineapple\" is not in the list\r\n",
        "\r\n"
      ],
      "execution_count": 37,
      "outputs": [
        {
          "output_type": "stream",
          "text": [
            "True\n",
            "True\n"
          ],
          "name": "stdout"
        }
      ]
    },
    {
      "cell_type": "markdown",
      "metadata": {
        "id": "tdAc5QJUYR8l"
      },
      "source": [
        "**Bitwise Operator:** Bitwise operators are used to compare (binary) numbers. Bitwise operators act on operands as if they were strings of binary digits. They operate bit by bit, hence the name.\r\n",
        "\r\n",
        "For example, 2 is 10 in binary and 7 is 111.\r\n",
        "\r\n",
        "In the table below: Let x = 10 (0000 1010 in binary) and y = 4 (0000 0100 in binary).\r\n",
        "\r\n",
        "Operator  \tName   \tDescription\r\n",
        "\r\n",
        "   &    -  \tAND\t  -   Sets each bit to 1 if both bits are 1\r\n",
        "\r\n",
        "   |\t  -   OR\t  -   Sets each bit to 1 if one of two bits is 1\r\n",
        "\r\n",
        "\r\n",
        "   ^\t  -   XOR  -\t Sets each bit to 1 if only one of two bits is 1\r\n",
        "\r\n",
        "\r\n",
        "   ~ \t  -   NOT\t -   Inverts all the bits\r\n",
        "\r\n",
        "\r\n",
        " << - Zero fill left shift  - Shift left by pushing zeros in from the right and let the leftmost bits fall off\r\n",
        "\r\n",
        " >> - \tSigned right shift -\thift right by pushing copies of the leftmost bit in from the left, and let the rightmost bits fall off\r\n",
        "\r\n",
        "\r\n"
      ]
    },
    {
      "cell_type": "code",
      "metadata": {
        "id": "sPo68fH_ZVxY"
      },
      "source": [
        ""
      ],
      "execution_count": null,
      "outputs": []
    }
  ]
}