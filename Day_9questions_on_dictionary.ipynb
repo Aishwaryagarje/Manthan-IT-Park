{
  "nbformat": 4,
  "nbformat_minor": 0,
  "metadata": {
    "colab": {
      "name": "Day_9questions_on_dictionary.ipynb",
      "provenance": []
    },
    "kernelspec": {
      "name": "python3",
      "display_name": "Python 3"
    }
  },
  "cells": [
    {
      "cell_type": "code",
      "metadata": {
        "id": "zopUsXsjqu42",
        "colab": {
          "base_uri": "https://localhost:8080/"
        },
        "outputId": "4157353e-4020-4946-992f-c6f91791c9e2"
      },
      "source": [
        "#write a python script to sort (ascending and dscending) a dictionary by value.\r\n",
        "d = {\r\n",
        "    \"first_name\": \"Aishwarya\",\r\n",
        "    \"middle_name\": \"Ajay\",\r\n",
        "    \"last_name\": \"Garje\"\r\n",
        "}\r\n",
        "print(d)"
      ],
      "execution_count": 2,
      "outputs": [
        {
          "output_type": "stream",
          "text": [
            "{'first_name': 'Aishwarya', 'middle_name': 'Ajay', 'last_name': 'Garje'}\n"
          ],
          "name": "stdout"
        }
      ]
    },
    {
      "cell_type": "code",
      "metadata": {
        "colab": {
          "base_uri": "https://localhost:8080/"
        },
        "id": "gKe1FTK_GFcu",
        "outputId": "4e1f8cc6-7006-4855-f76a-e9b3c2559c1d"
      },
      "source": [
        "#Write a Python script to add a key to a dictionary.\r\n",
        "d = {\r\n",
        "    \"first_name\": \"Aishwarya\",\r\n",
        "    \"middle_name\": \"Ajay\",\r\n",
        "    \"last_name\": \"Garje\"\r\n",
        "}\r\n",
        "d[\"age\"] = 22\r\n",
        "print(d)"
      ],
      "execution_count": 5,
      "outputs": [
        {
          "output_type": "stream",
          "text": [
            "{'first_name': 'Aishwarya', 'middle_name': 'Ajay', 'last_name': 'Garje', 'age': 22}\n"
          ],
          "name": "stdout"
        }
      ]
    },
    {
      "cell_type": "code",
      "metadata": {
        "colab": {
          "base_uri": "https://localhost:8080/"
        },
        "id": "MrLlaquIHPpf",
        "outputId": "c576020c-08c4-4b47-b6f9-8f391625a65a"
      },
      "source": [
        "#write a python script to add key to dictionary\r\n",
        "dict = {'key1':'aish', 'key2':'garje'} \r\n",
        "print(\"Current Dict is: \", dict) \r\n",
        "dict['key2'] = 'ajay'\r\n",
        "dict['key3'] = 'garje'\r\n",
        "print(\"Updated Dict is: \", dict) "
      ],
      "execution_count": 7,
      "outputs": [
        {
          "output_type": "stream",
          "text": [
            "Current Dict is:  {'key1': 'aish', 'key2': 'garje'}\n",
            "Updated Dict is:  {'key1': 'aish', 'key2': 'ajay', 'key3': 'garje'}\n"
          ],
          "name": "stdout"
        }
      ]
    },
    {
      "cell_type": "markdown",
      "metadata": {
        "id": "Rm34gSBDLKrm"
      },
      "source": [
        "Write a Python script to concatenate following dictionaries to create a new one.\r\n",
        "Sample Dictionary :\r\n",
        "\r\n",
        "dic1={1:10, 2:20}\r\n",
        "\r\n",
        "dic2={3:30, 4:40}\r\n",
        "\r\n",
        "dic3={5:50,6:60}\r\n",
        "\r\n",
        "Expected Result : {1: 10, 2: 20, 3: 30, 4: 40, 5: 50, 6: 60}"
      ]
    },
    {
      "cell_type": "code",
      "metadata": {
        "colab": {
          "base_uri": "https://localhost:8080/"
        },
        "id": "Orn0S8Q2LL8n",
        "outputId": "4627881d-08f2-41a6-d67e-679972edd9c1"
      },
      "source": [
        "dic1 = {1:10,2:20}\r\n",
        "dic2 = {3:30,4:40}\r\n",
        "dic3 = {5:50,6:60}\r\n",
        "\r\n",
        "print(\"unupdated dic:\",dic1)\r\n",
        "print(\"unupdated dic:\",dic2)\r\n",
        "print(\"unupdated dic:\",dic3)\r\n",
        "dic4 = {**dic1, **dic2, **dic3}\r\n",
        "print(\"updated dic is:\",dic4)"
      ],
      "execution_count": 10,
      "outputs": [
        {
          "output_type": "stream",
          "text": [
            "unupdated dic: {1: 10, 2: 20}\n",
            "unupdated dic: {3: 30, 4: 40}\n",
            "unupdated dic: {5: 50, 6: 60}\n",
            "updated dic is: {1: 10, 2: 20, 3: 30, 4: 40, 5: 50, 6: 60}\n"
          ],
          "name": "stdout"
        }
      ]
    },
    {
      "cell_type": "code",
      "metadata": {
        "colab": {
          "base_uri": "https://localhost:8080/"
        },
        "id": "IKTFVZs_L2oy",
        "outputId": "2b3266cd-8827-402d-b7b5-e261fe98e39b"
      },
      "source": [
        "#Write a Python script to check whether a given key already exists in a dictionary\r\n",
        "d = {1: 10, 2: 20, 3: 30, 4: 40, 5: 50, 6: 60}\r\n",
        "def is_key_present(x):\r\n",
        "  if x in d:\r\n",
        "      print('Key is present in the dictionary')\r\n",
        "  else:\r\n",
        "      print('Key is not present in the dictionary')\r\n",
        "is_key_present(5)\r\n",
        "is_key_present(9)\r\n",
        "\r\n",
        "        "
      ],
      "execution_count": 18,
      "outputs": [
        {
          "output_type": "stream",
          "text": [
            "Key is present in the dictionary\n",
            "Key is not present in the dictionary\n"
          ],
          "name": "stdout"
        }
      ]
    },
    {
      "cell_type": "code",
      "metadata": {
        "colab": {
          "base_uri": "https://localhost:8080/"
        },
        "id": "Po0h-NXaOn3A",
        "outputId": "60b05a16-603f-4b80-9786-702a9e276c24"
      },
      "source": [
        "#Write a Python script to merge two Python dictionaries.\r\n",
        "dict1 = {'a': 10, 'b': 8}\r\n",
        "dict2 = {'d': 6, 'c': 4}\r\n",
        "def dic_merge():\r\n",
        "  print(\"merge dictionary is:\",dict1,dict2)\r\n",
        "dic_merge()\r\n"
      ],
      "execution_count": 2,
      "outputs": [
        {
          "output_type": "stream",
          "text": [
            "merge dictionary is: {'a': 10, 'b': 8} {'d': 6, 'c': 4}\n"
          ],
          "name": "stdout"
        }
      ]
    },
    {
      "cell_type": "code",
      "metadata": {
        "colab": {
          "base_uri": "https://localhost:8080/"
        },
        "id": "O4BYNGhcQ7Hq",
        "outputId": "ef3cd58e-9a9d-4c67-a37e-616dcac86260"
      },
      "source": [
        "#Write a Python program to sum all the items in a dictionary.\r\n",
        "my_dict = {'data1':10,'data2':20,'data3':30}\r\n",
        "print(sum(my_dict.values()))\r\n"
      ],
      "execution_count": 35,
      "outputs": [
        {
          "output_type": "stream",
          "text": [
            "60\n"
          ],
          "name": "stdout"
        }
      ]
    },
    {
      "cell_type": "code",
      "metadata": {
        "colab": {
          "base_uri": "https://localhost:8080/"
        },
        "id": "CccOkXAnRmL5",
        "outputId": "f9a1bc60-bdd9-4cf1-a22d-ce6e730849bb"
      },
      "source": [
        "#Write a Python program to multiply all the items in a dictionary\r\n",
        "my_dict = {'data1':10,'data2':20,'data3':30}\r\n",
        "result=1\r\n",
        "for key in my_dict:    \r\n",
        "    result=result * my_dict[key]\r\n",
        "\r\n",
        "print(result)\r\n",
        "\r\n",
        "\r\n"
      ],
      "execution_count": 36,
      "outputs": [
        {
          "output_type": "stream",
          "text": [
            "6000\n"
          ],
          "name": "stdout"
        }
      ]
    },
    {
      "cell_type": "code",
      "metadata": {
        "colab": {
          "base_uri": "https://localhost:8080/"
        },
        "id": "3zY2awmtRw5D",
        "outputId": "dd9b8c6d-5663-49da-a30c-7d5c1ffc818f"
      },
      "source": [
        "#Write a Python program to remove a key from a dictionary. \r\n",
        "thisdict = {\r\n",
        "  \"first_name\": \"aishwarya\",\r\n",
        "  \"middlle_name\": \"ajay\",\r\n",
        "  \"last_name\": \"garje\",\r\n",
        "  \"age\": 22\r\n",
        "}\r\n",
        "print(thisdict)\r\n",
        "thisdict.pop(\"age\")\r\n",
        "print(thisdict)\r\n"
      ],
      "execution_count": 37,
      "outputs": [
        {
          "output_type": "stream",
          "text": [
            "{'first_name': 'aishwarya', 'middlle_name': 'ajay', 'last_name': 'garje', 'age': 22}\n",
            "{'first_name': 'aishwarya', 'middlle_name': 'ajay', 'last_name': 'garje'}\n"
          ],
          "name": "stdout"
        }
      ]
    },
    {
      "cell_type": "code",
      "metadata": {
        "id": "ojZk8-SnVpRW"
      },
      "source": [
        "#Write a Python program to remove duplicates from Dictionary.\r\n"
      ],
      "execution_count": null,
      "outputs": []
    },
    {
      "cell_type": "markdown",
      "metadata": {
        "id": "K4VdRtKDXJ-n"
      },
      "source": [
        "Write a Python program to combine two dictionary adding values for common keys.\r\n",
        "\r\n",
        "d1 = {'a': 100, 'b': 200, 'c':300}\r\n",
        "\r\n",
        "d2 = {'a': 300, 'b': 200, 'd':400}\r\n",
        "\r\n",
        "Sample output: Counter({'a': 400, 'b': 400, 'd': 400, 'c': 300})"
      ]
    },
    {
      "cell_type": "code",
      "metadata": {
        "colab": {
          "base_uri": "https://localhost:8080/"
        },
        "id": "-is9BoARXLKq",
        "outputId": "87ad9a31-5f30-4f0c-b5d7-0b62cac4b9b1"
      },
      "source": [
        "d1 = {'a': 100, 'b': 200, 'c':300}\r\n",
        "\r\n",
        "d2 = {'a': 300, 'b': 200, 'd':400}\r\n",
        "\r\n",
        "for key in d2: \r\n",
        "    if key in d1: \r\n",
        "        d2[key] = d2[key] + d1[key] \r\n",
        "    else: \r\n",
        "        pass\r\n",
        "          \r\n",
        "print(d2) "
      ],
      "execution_count": 11,
      "outputs": [
        {
          "output_type": "stream",
          "text": [
            "{'a': 400, 'b': 400, 'd': 400}\n"
          ],
          "name": "stdout"
        }
      ]
    },
    {
      "cell_type": "code",
      "metadata": {
        "id": "eLg1eEYaYbhC"
      },
      "source": [
        ""
      ],
      "execution_count": 45,
      "outputs": []
    }
  ]
}